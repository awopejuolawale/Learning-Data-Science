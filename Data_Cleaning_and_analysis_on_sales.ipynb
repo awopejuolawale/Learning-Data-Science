{
 "cells": [
  {
   "cell_type": "markdown",
   "id": "c4534797",
   "metadata": {},
   "source": [
    "### Step1: Import all Libraries"
   ]
  },
  {
   "cell_type": "code",
   "execution_count": 121,
   "id": "9aa83ae9",
   "metadata": {},
   "outputs": [],
   "source": [
    "import pandas as pd\n",
    "import numpy as np\n",
    "import seaborn as sns\n",
    "import matplotlib.pyplot as plt\n",
    "import plotly.express as px"
   ]
  },
  {
   "cell_type": "markdown",
   "id": "1090782e",
   "metadata": {},
   "source": [
    "#### Step2: Loading the data"
   ]
  },
  {
   "cell_type": "code",
   "execution_count": 4,
   "id": "aa25fedc",
   "metadata": {},
   "outputs": [
    {
     "data": {
      "text/html": [
       "<div>\n",
       "<style scoped>\n",
       "    .dataframe tbody tr th:only-of-type {\n",
       "        vertical-align: middle;\n",
       "    }\n",
       "\n",
       "    .dataframe tbody tr th {\n",
       "        vertical-align: top;\n",
       "    }\n",
       "\n",
       "    .dataframe thead th {\n",
       "        text-align: right;\n",
       "    }\n",
       "</style>\n",
       "<table border=\"1\" class=\"dataframe\">\n",
       "  <thead>\n",
       "    <tr style=\"text-align: right;\">\n",
       "      <th></th>\n",
       "      <th>Transaction ID</th>\n",
       "      <th>Date</th>\n",
       "      <th>Product Category</th>\n",
       "      <th>Product Name</th>\n",
       "      <th>Units Sold</th>\n",
       "      <th>Unit Price</th>\n",
       "      <th>Total Revenue</th>\n",
       "      <th>Region</th>\n",
       "      <th>Payment Method</th>\n",
       "    </tr>\n",
       "  </thead>\n",
       "  <tbody>\n",
       "    <tr>\n",
       "      <th>0</th>\n",
       "      <td>10001</td>\n",
       "      <td>2024-01-01</td>\n",
       "      <td>Electronics</td>\n",
       "      <td>iPhone 14 Pro</td>\n",
       "      <td>2</td>\n",
       "      <td>999.99</td>\n",
       "      <td>1999.98</td>\n",
       "      <td>North America</td>\n",
       "      <td>Credit Card</td>\n",
       "    </tr>\n",
       "    <tr>\n",
       "      <th>1</th>\n",
       "      <td>10002</td>\n",
       "      <td>2024-01-02</td>\n",
       "      <td>Home Appliances</td>\n",
       "      <td>Dyson V11 Vacuum</td>\n",
       "      <td>1</td>\n",
       "      <td>499.99</td>\n",
       "      <td>499.99</td>\n",
       "      <td>Europe</td>\n",
       "      <td>PayPal</td>\n",
       "    </tr>\n",
       "    <tr>\n",
       "      <th>2</th>\n",
       "      <td>10003</td>\n",
       "      <td>2024-01-03</td>\n",
       "      <td>Clothing</td>\n",
       "      <td>Levi's 501 Jeans</td>\n",
       "      <td>3</td>\n",
       "      <td>69.99</td>\n",
       "      <td>209.97</td>\n",
       "      <td>Asia</td>\n",
       "      <td>Debit Card</td>\n",
       "    </tr>\n",
       "    <tr>\n",
       "      <th>3</th>\n",
       "      <td>10004</td>\n",
       "      <td>2024-01-04</td>\n",
       "      <td>Books</td>\n",
       "      <td>The Da Vinci Code</td>\n",
       "      <td>4</td>\n",
       "      <td>15.99</td>\n",
       "      <td>63.96</td>\n",
       "      <td>North America</td>\n",
       "      <td>Credit Card</td>\n",
       "    </tr>\n",
       "    <tr>\n",
       "      <th>4</th>\n",
       "      <td>10005</td>\n",
       "      <td>2024-01-05</td>\n",
       "      <td>Beauty Products</td>\n",
       "      <td>Neutrogena Skincare Set</td>\n",
       "      <td>1</td>\n",
       "      <td>89.99</td>\n",
       "      <td>89.99</td>\n",
       "      <td>Europe</td>\n",
       "      <td>PayPal</td>\n",
       "    </tr>\n",
       "    <tr>\n",
       "      <th>...</th>\n",
       "      <td>...</td>\n",
       "      <td>...</td>\n",
       "      <td>...</td>\n",
       "      <td>...</td>\n",
       "      <td>...</td>\n",
       "      <td>...</td>\n",
       "      <td>...</td>\n",
       "      <td>...</td>\n",
       "      <td>...</td>\n",
       "    </tr>\n",
       "    <tr>\n",
       "      <th>235</th>\n",
       "      <td>10236</td>\n",
       "      <td>2024-08-23</td>\n",
       "      <td>Home Appliances</td>\n",
       "      <td>Nespresso Vertuo Next Coffee and Espresso Maker</td>\n",
       "      <td>1</td>\n",
       "      <td>159.99</td>\n",
       "      <td>159.99</td>\n",
       "      <td>Europe</td>\n",
       "      <td>PayPal</td>\n",
       "    </tr>\n",
       "    <tr>\n",
       "      <th>236</th>\n",
       "      <td>10237</td>\n",
       "      <td>2024-08-24</td>\n",
       "      <td>Clothing</td>\n",
       "      <td>Nike Air Force 1 Sneakers</td>\n",
       "      <td>3</td>\n",
       "      <td>90.00</td>\n",
       "      <td>270.00</td>\n",
       "      <td>Asia</td>\n",
       "      <td>Debit Card</td>\n",
       "    </tr>\n",
       "    <tr>\n",
       "      <th>237</th>\n",
       "      <td>10238</td>\n",
       "      <td>2024-08-25</td>\n",
       "      <td>Books</td>\n",
       "      <td>The Handmaid's Tale by Margaret Atwood</td>\n",
       "      <td>3</td>\n",
       "      <td>10.99</td>\n",
       "      <td>32.97</td>\n",
       "      <td>North America</td>\n",
       "      <td>Credit Card</td>\n",
       "    </tr>\n",
       "    <tr>\n",
       "      <th>238</th>\n",
       "      <td>10239</td>\n",
       "      <td>2024-08-26</td>\n",
       "      <td>Beauty Products</td>\n",
       "      <td>Sunday Riley Luna Sleeping Night Oil</td>\n",
       "      <td>1</td>\n",
       "      <td>55.00</td>\n",
       "      <td>55.00</td>\n",
       "      <td>Europe</td>\n",
       "      <td>PayPal</td>\n",
       "    </tr>\n",
       "    <tr>\n",
       "      <th>239</th>\n",
       "      <td>10240</td>\n",
       "      <td>2024-08-27</td>\n",
       "      <td>Sports</td>\n",
       "      <td>Yeti Rambler 20 oz Tumbler</td>\n",
       "      <td>2</td>\n",
       "      <td>29.99</td>\n",
       "      <td>59.98</td>\n",
       "      <td>Asia</td>\n",
       "      <td>Credit Card</td>\n",
       "    </tr>\n",
       "  </tbody>\n",
       "</table>\n",
       "<p>240 rows × 9 columns</p>\n",
       "</div>"
      ],
      "text/plain": [
       "     Transaction ID        Date Product Category  \\\n",
       "0             10001  2024-01-01      Electronics   \n",
       "1             10002  2024-01-02  Home Appliances   \n",
       "2             10003  2024-01-03         Clothing   \n",
       "3             10004  2024-01-04            Books   \n",
       "4             10005  2024-01-05  Beauty Products   \n",
       "..              ...         ...              ...   \n",
       "235           10236  2024-08-23  Home Appliances   \n",
       "236           10237  2024-08-24         Clothing   \n",
       "237           10238  2024-08-25            Books   \n",
       "238           10239  2024-08-26  Beauty Products   \n",
       "239           10240  2024-08-27           Sports   \n",
       "\n",
       "                                        Product Name  Units Sold  Unit Price  \\\n",
       "0                                      iPhone 14 Pro           2      999.99   \n",
       "1                                   Dyson V11 Vacuum           1      499.99   \n",
       "2                                   Levi's 501 Jeans           3       69.99   \n",
       "3                                  The Da Vinci Code           4       15.99   \n",
       "4                            Neutrogena Skincare Set           1       89.99   \n",
       "..                                               ...         ...         ...   \n",
       "235  Nespresso Vertuo Next Coffee and Espresso Maker           1      159.99   \n",
       "236                        Nike Air Force 1 Sneakers           3       90.00   \n",
       "237           The Handmaid's Tale by Margaret Atwood           3       10.99   \n",
       "238             Sunday Riley Luna Sleeping Night Oil           1       55.00   \n",
       "239                       Yeti Rambler 20 oz Tumbler           2       29.99   \n",
       "\n",
       "     Total Revenue         Region Payment Method  \n",
       "0          1999.98  North America    Credit Card  \n",
       "1           499.99         Europe         PayPal  \n",
       "2           209.97           Asia     Debit Card  \n",
       "3            63.96  North America    Credit Card  \n",
       "4            89.99         Europe         PayPal  \n",
       "..             ...            ...            ...  \n",
       "235         159.99         Europe         PayPal  \n",
       "236         270.00           Asia     Debit Card  \n",
       "237          32.97  North America    Credit Card  \n",
       "238          55.00         Europe         PayPal  \n",
       "239          59.98           Asia    Credit Card  \n",
       "\n",
       "[240 rows x 9 columns]"
      ]
     },
     "execution_count": 4,
     "metadata": {},
     "output_type": "execute_result"
    }
   ],
   "source": [
    "df = pd.read_csv('online sales data.csv')\n",
    "\n",
    "df"
   ]
  },
  {
   "cell_type": "markdown",
   "id": "43a85eb6",
   "metadata": {},
   "source": [
    "#### Step3: Understanding the data\n",
    "***by checking: duplicate, sum of duplicates, info, isnull, sum of isnull,\n",
    "shape, size, ndim, columns, head, tail***"
   ]
  },
  {
   "cell_type": "code",
   "execution_count": 5,
   "id": "b0908f2e",
   "metadata": {},
   "outputs": [
    {
     "name": "stdout",
     "output_type": "stream",
     "text": [
      "<class 'pandas.core.frame.DataFrame'>\n",
      "RangeIndex: 240 entries, 0 to 239\n",
      "Data columns (total 9 columns):\n",
      " #   Column            Non-Null Count  Dtype  \n",
      "---  ------            --------------  -----  \n",
      " 0   Transaction ID    240 non-null    int64  \n",
      " 1   Date              240 non-null    object \n",
      " 2   Product Category  240 non-null    object \n",
      " 3   Product Name      240 non-null    object \n",
      " 4   Units Sold        240 non-null    int64  \n",
      " 5   Unit Price        240 non-null    float64\n",
      " 6   Total Revenue     240 non-null    float64\n",
      " 7   Region            240 non-null    object \n",
      " 8   Payment Method    240 non-null    object \n",
      "dtypes: float64(2), int64(2), object(5)\n",
      "memory usage: 17.0+ KB\n"
     ]
    }
   ],
   "source": [
    "df.info()"
   ]
  },
  {
   "cell_type": "code",
   "execution_count": 6,
   "id": "b8464340",
   "metadata": {
    "scrolled": true
   },
   "outputs": [
    {
     "data": {
      "text/plain": [
       "(240, 9)"
      ]
     },
     "execution_count": 6,
     "metadata": {},
     "output_type": "execute_result"
    }
   ],
   "source": [
    "df.shape"
   ]
  },
  {
   "cell_type": "code",
   "execution_count": 7,
   "id": "2b3ddb16",
   "metadata": {},
   "outputs": [
    {
     "data": {
      "text/plain": [
       "2"
      ]
     },
     "execution_count": 7,
     "metadata": {},
     "output_type": "execute_result"
    }
   ],
   "source": [
    "df.ndim"
   ]
  },
  {
   "cell_type": "code",
   "execution_count": 8,
   "id": "c7a6e16e",
   "metadata": {},
   "outputs": [
    {
     "data": {
      "text/plain": [
       "2160"
      ]
     },
     "execution_count": 8,
     "metadata": {},
     "output_type": "execute_result"
    }
   ],
   "source": [
    "df.size"
   ]
  },
  {
   "cell_type": "code",
   "execution_count": 9,
   "id": "be3911e3",
   "metadata": {},
   "outputs": [
    {
     "data": {
      "text/plain": [
       "Index(['Transaction ID', 'Date', 'Product Category', 'Product Name',\n",
       "       'Units Sold', 'Unit Price', 'Total Revenue', 'Region',\n",
       "       'Payment Method'],\n",
       "      dtype='object')"
      ]
     },
     "execution_count": 9,
     "metadata": {},
     "output_type": "execute_result"
    }
   ],
   "source": [
    "df.columns"
   ]
  },
  {
   "cell_type": "code",
   "execution_count": 29,
   "id": "00681797",
   "metadata": {},
   "outputs": [
    {
     "data": {
      "text/html": [
       "<div>\n",
       "<style scoped>\n",
       "    .dataframe tbody tr th:only-of-type {\n",
       "        vertical-align: middle;\n",
       "    }\n",
       "\n",
       "    .dataframe tbody tr th {\n",
       "        vertical-align: top;\n",
       "    }\n",
       "\n",
       "    .dataframe thead th {\n",
       "        text-align: right;\n",
       "    }\n",
       "</style>\n",
       "<table border=\"1\" class=\"dataframe\">\n",
       "  <thead>\n",
       "    <tr style=\"text-align: right;\">\n",
       "      <th></th>\n",
       "      <th>Transaction ID</th>\n",
       "      <th>Date</th>\n",
       "      <th>Product Category</th>\n",
       "      <th>Product Name</th>\n",
       "      <th>Units Sold</th>\n",
       "      <th>Unit Price</th>\n",
       "      <th>Total Revenue</th>\n",
       "      <th>Region</th>\n",
       "      <th>Payment Method</th>\n",
       "    </tr>\n",
       "  </thead>\n",
       "  <tbody>\n",
       "    <tr>\n",
       "      <th>202</th>\n",
       "      <td>10203</td>\n",
       "      <td>2024-07-21</td>\n",
       "      <td>Beauty Products</td>\n",
       "      <td>Dr. Jart+ Cicapair Tiger Grass Color Correctin...</td>\n",
       "      <td>1</td>\n",
       "      <td>52.00</td>\n",
       "      <td>52.00</td>\n",
       "      <td>Europe</td>\n",
       "      <td>PayPal</td>\n",
       "    </tr>\n",
       "    <tr>\n",
       "      <th>40</th>\n",
       "      <td>10041</td>\n",
       "      <td>2024-02-10</td>\n",
       "      <td>Beauty Products</td>\n",
       "      <td>Estee Lauder Advanced Night Repair</td>\n",
       "      <td>1</td>\n",
       "      <td>105.00</td>\n",
       "      <td>105.00</td>\n",
       "      <td>Europe</td>\n",
       "      <td>PayPal</td>\n",
       "    </tr>\n",
       "    <tr>\n",
       "      <th>117</th>\n",
       "      <td>10118</td>\n",
       "      <td>2024-04-27</td>\n",
       "      <td>Books</td>\n",
       "      <td>Atomic Habits by James Clear</td>\n",
       "      <td>4</td>\n",
       "      <td>16.99</td>\n",
       "      <td>67.96</td>\n",
       "      <td>North America</td>\n",
       "      <td>Credit Card</td>\n",
       "    </tr>\n",
       "    <tr>\n",
       "      <th>121</th>\n",
       "      <td>10122</td>\n",
       "      <td>2024-05-01</td>\n",
       "      <td>Home Appliances</td>\n",
       "      <td>Hamilton Beach FlexBrew Coffee Maker</td>\n",
       "      <td>1</td>\n",
       "      <td>89.99</td>\n",
       "      <td>89.99</td>\n",
       "      <td>Europe</td>\n",
       "      <td>PayPal</td>\n",
       "    </tr>\n",
       "    <tr>\n",
       "      <th>217</th>\n",
       "      <td>10218</td>\n",
       "      <td>2024-08-05</td>\n",
       "      <td>Home Appliances</td>\n",
       "      <td>iRobot Braava Jet M6</td>\n",
       "      <td>1</td>\n",
       "      <td>449.99</td>\n",
       "      <td>449.99</td>\n",
       "      <td>Europe</td>\n",
       "      <td>PayPal</td>\n",
       "    </tr>\n",
       "    <tr>\n",
       "      <th>59</th>\n",
       "      <td>10060</td>\n",
       "      <td>2024-02-29</td>\n",
       "      <td>Sports</td>\n",
       "      <td>Hyperice Hypervolt Massager</td>\n",
       "      <td>1</td>\n",
       "      <td>349.00</td>\n",
       "      <td>349.00</td>\n",
       "      <td>Asia</td>\n",
       "      <td>Credit Card</td>\n",
       "    </tr>\n",
       "    <tr>\n",
       "      <th>0</th>\n",
       "      <td>10001</td>\n",
       "      <td>2024-01-01</td>\n",
       "      <td>Electronics</td>\n",
       "      <td>iPhone 14 Pro</td>\n",
       "      <td>2</td>\n",
       "      <td>999.99</td>\n",
       "      <td>1999.98</td>\n",
       "      <td>North America</td>\n",
       "      <td>Credit Card</td>\n",
       "    </tr>\n",
       "    <tr>\n",
       "      <th>12</th>\n",
       "      <td>10013</td>\n",
       "      <td>2024-01-13</td>\n",
       "      <td>Electronics</td>\n",
       "      <td>Samsung Galaxy Tab S8</td>\n",
       "      <td>2</td>\n",
       "      <td>749.99</td>\n",
       "      <td>1499.98</td>\n",
       "      <td>North America</td>\n",
       "      <td>Credit Card</td>\n",
       "    </tr>\n",
       "    <tr>\n",
       "      <th>207</th>\n",
       "      <td>10208</td>\n",
       "      <td>2024-07-26</td>\n",
       "      <td>Books</td>\n",
       "      <td>The Great Alone by Kristin Hannah</td>\n",
       "      <td>3</td>\n",
       "      <td>16.99</td>\n",
       "      <td>50.97</td>\n",
       "      <td>North America</td>\n",
       "      <td>Credit Card</td>\n",
       "    </tr>\n",
       "    <tr>\n",
       "      <th>194</th>\n",
       "      <td>10195</td>\n",
       "      <td>2024-07-13</td>\n",
       "      <td>Clothing</td>\n",
       "      <td>Adidas Ultraboost Running Shoes</td>\n",
       "      <td>2</td>\n",
       "      <td>179.99</td>\n",
       "      <td>359.98</td>\n",
       "      <td>Asia</td>\n",
       "      <td>Debit Card</td>\n",
       "    </tr>\n",
       "    <tr>\n",
       "      <th>193</th>\n",
       "      <td>10194</td>\n",
       "      <td>2024-07-12</td>\n",
       "      <td>Home Appliances</td>\n",
       "      <td>Breville Smart Coffee Grinder Pro</td>\n",
       "      <td>1</td>\n",
       "      <td>199.95</td>\n",
       "      <td>199.95</td>\n",
       "      <td>Europe</td>\n",
       "      <td>PayPal</td>\n",
       "    </tr>\n",
       "    <tr>\n",
       "      <th>34</th>\n",
       "      <td>10035</td>\n",
       "      <td>2024-02-04</td>\n",
       "      <td>Beauty Products</td>\n",
       "      <td>L'Oreal Revitalift Serum</td>\n",
       "      <td>2</td>\n",
       "      <td>39.99</td>\n",
       "      <td>79.98</td>\n",
       "      <td>Europe</td>\n",
       "      <td>PayPal</td>\n",
       "    </tr>\n",
       "    <tr>\n",
       "      <th>175</th>\n",
       "      <td>10176</td>\n",
       "      <td>2024-06-24</td>\n",
       "      <td>Home Appliances</td>\n",
       "      <td>Crock-Pot 6-Quart Slow Cooker</td>\n",
       "      <td>2</td>\n",
       "      <td>49.99</td>\n",
       "      <td>99.98</td>\n",
       "      <td>Europe</td>\n",
       "      <td>PayPal</td>\n",
       "    </tr>\n",
       "    <tr>\n",
       "      <th>141</th>\n",
       "      <td>10142</td>\n",
       "      <td>2024-05-21</td>\n",
       "      <td>Books</td>\n",
       "      <td>The Power of Habit by Charles Duhigg</td>\n",
       "      <td>2</td>\n",
       "      <td>11.99</td>\n",
       "      <td>23.98</td>\n",
       "      <td>North America</td>\n",
       "      <td>Credit Card</td>\n",
       "    </tr>\n",
       "    <tr>\n",
       "      <th>82</th>\n",
       "      <td>10083</td>\n",
       "      <td>2024-03-23</td>\n",
       "      <td>Beauty Products</td>\n",
       "      <td>Charlotte Tilbury Magic Cream</td>\n",
       "      <td>1</td>\n",
       "      <td>100.00</td>\n",
       "      <td>100.00</td>\n",
       "      <td>Europe</td>\n",
       "      <td>PayPal</td>\n",
       "    </tr>\n",
       "    <tr>\n",
       "      <th>118</th>\n",
       "      <td>10119</td>\n",
       "      <td>2024-04-28</td>\n",
       "      <td>Beauty Products</td>\n",
       "      <td>CeraVe Hydrating Facial Cleanser</td>\n",
       "      <td>2</td>\n",
       "      <td>14.99</td>\n",
       "      <td>29.98</td>\n",
       "      <td>Europe</td>\n",
       "      <td>PayPal</td>\n",
       "    </tr>\n",
       "    <tr>\n",
       "      <th>216</th>\n",
       "      <td>10217</td>\n",
       "      <td>2024-08-04</td>\n",
       "      <td>Electronics</td>\n",
       "      <td>Apple MacBook Pro 16-inch</td>\n",
       "      <td>1</td>\n",
       "      <td>2399.00</td>\n",
       "      <td>2399.00</td>\n",
       "      <td>North America</td>\n",
       "      <td>Credit Card</td>\n",
       "    </tr>\n",
       "    <tr>\n",
       "      <th>47</th>\n",
       "      <td>10048</td>\n",
       "      <td>2024-02-17</td>\n",
       "      <td>Sports</td>\n",
       "      <td>Yeti Rambler Tumbler</td>\n",
       "      <td>6</td>\n",
       "      <td>39.99</td>\n",
       "      <td>239.94</td>\n",
       "      <td>Asia</td>\n",
       "      <td>Credit Card</td>\n",
       "    </tr>\n",
       "    <tr>\n",
       "      <th>236</th>\n",
       "      <td>10237</td>\n",
       "      <td>2024-08-24</td>\n",
       "      <td>Clothing</td>\n",
       "      <td>Nike Air Force 1 Sneakers</td>\n",
       "      <td>3</td>\n",
       "      <td>90.00</td>\n",
       "      <td>270.00</td>\n",
       "      <td>Asia</td>\n",
       "      <td>Debit Card</td>\n",
       "    </tr>\n",
       "    <tr>\n",
       "      <th>136</th>\n",
       "      <td>10137</td>\n",
       "      <td>2024-05-16</td>\n",
       "      <td>Beauty Products</td>\n",
       "      <td>The Ordinary Hyaluronic Acid Serum</td>\n",
       "      <td>1</td>\n",
       "      <td>6.80</td>\n",
       "      <td>6.80</td>\n",
       "      <td>Europe</td>\n",
       "      <td>PayPal</td>\n",
       "    </tr>\n",
       "    <tr>\n",
       "      <th>51</th>\n",
       "      <td>10052</td>\n",
       "      <td>2024-02-21</td>\n",
       "      <td>Books</td>\n",
       "      <td>The Silent Patient by Alex Michaelides</td>\n",
       "      <td>2</td>\n",
       "      <td>26.99</td>\n",
       "      <td>53.98</td>\n",
       "      <td>North America</td>\n",
       "      <td>Credit Card</td>\n",
       "    </tr>\n",
       "    <tr>\n",
       "      <th>231</th>\n",
       "      <td>10232</td>\n",
       "      <td>2024-08-19</td>\n",
       "      <td>Books</td>\n",
       "      <td>Dune by Frank Herbert</td>\n",
       "      <td>2</td>\n",
       "      <td>9.99</td>\n",
       "      <td>19.98</td>\n",
       "      <td>North America</td>\n",
       "      <td>Credit Card</td>\n",
       "    </tr>\n",
       "    <tr>\n",
       "      <th>159</th>\n",
       "      <td>10160</td>\n",
       "      <td>2024-06-08</td>\n",
       "      <td>Books</td>\n",
       "      <td>The Art of War by Sun Tzu</td>\n",
       "      <td>3</td>\n",
       "      <td>7.99</td>\n",
       "      <td>23.97</td>\n",
       "      <td>North America</td>\n",
       "      <td>Credit Card</td>\n",
       "    </tr>\n",
       "    <tr>\n",
       "      <th>213</th>\n",
       "      <td>10214</td>\n",
       "      <td>2024-08-01</td>\n",
       "      <td>Books</td>\n",
       "      <td>The Girl with the Dragon Tattoo by Stieg Larsson</td>\n",
       "      <td>3</td>\n",
       "      <td>10.99</td>\n",
       "      <td>32.97</td>\n",
       "      <td>North America</td>\n",
       "      <td>Credit Card</td>\n",
       "    </tr>\n",
       "    <tr>\n",
       "      <th>81</th>\n",
       "      <td>10082</td>\n",
       "      <td>2024-03-22</td>\n",
       "      <td>Books</td>\n",
       "      <td>The Hobbit by J.R.R. Tolkien</td>\n",
       "      <td>3</td>\n",
       "      <td>12.99</td>\n",
       "      <td>38.97</td>\n",
       "      <td>North America</td>\n",
       "      <td>Credit Card</td>\n",
       "    </tr>\n",
       "  </tbody>\n",
       "</table>\n",
       "</div>"
      ],
      "text/plain": [
       "     Transaction ID        Date Product Category  \\\n",
       "202           10203  2024-07-21  Beauty Products   \n",
       "40            10041  2024-02-10  Beauty Products   \n",
       "117           10118  2024-04-27            Books   \n",
       "121           10122  2024-05-01  Home Appliances   \n",
       "217           10218  2024-08-05  Home Appliances   \n",
       "59            10060  2024-02-29           Sports   \n",
       "0             10001  2024-01-01      Electronics   \n",
       "12            10013  2024-01-13      Electronics   \n",
       "207           10208  2024-07-26            Books   \n",
       "194           10195  2024-07-13         Clothing   \n",
       "193           10194  2024-07-12  Home Appliances   \n",
       "34            10035  2024-02-04  Beauty Products   \n",
       "175           10176  2024-06-24  Home Appliances   \n",
       "141           10142  2024-05-21            Books   \n",
       "82            10083  2024-03-23  Beauty Products   \n",
       "118           10119  2024-04-28  Beauty Products   \n",
       "216           10217  2024-08-04      Electronics   \n",
       "47            10048  2024-02-17           Sports   \n",
       "236           10237  2024-08-24         Clothing   \n",
       "136           10137  2024-05-16  Beauty Products   \n",
       "51            10052  2024-02-21            Books   \n",
       "231           10232  2024-08-19            Books   \n",
       "159           10160  2024-06-08            Books   \n",
       "213           10214  2024-08-01            Books   \n",
       "81            10082  2024-03-22            Books   \n",
       "\n",
       "                                          Product Name  Units Sold  \\\n",
       "202  Dr. Jart+ Cicapair Tiger Grass Color Correctin...           1   \n",
       "40                  Estee Lauder Advanced Night Repair           1   \n",
       "117                       Atomic Habits by James Clear           4   \n",
       "121               Hamilton Beach FlexBrew Coffee Maker           1   \n",
       "217                               iRobot Braava Jet M6           1   \n",
       "59                         Hyperice Hypervolt Massager           1   \n",
       "0                                        iPhone 14 Pro           2   \n",
       "12                               Samsung Galaxy Tab S8           2   \n",
       "207                  The Great Alone by Kristin Hannah           3   \n",
       "194                    Adidas Ultraboost Running Shoes           2   \n",
       "193                  Breville Smart Coffee Grinder Pro           1   \n",
       "34                            L'Oreal Revitalift Serum           2   \n",
       "175                      Crock-Pot 6-Quart Slow Cooker           2   \n",
       "141               The Power of Habit by Charles Duhigg           2   \n",
       "82                       Charlotte Tilbury Magic Cream           1   \n",
       "118                   CeraVe Hydrating Facial Cleanser           2   \n",
       "216                          Apple MacBook Pro 16-inch           1   \n",
       "47                                Yeti Rambler Tumbler           6   \n",
       "236                          Nike Air Force 1 Sneakers           3   \n",
       "136                 The Ordinary Hyaluronic Acid Serum           1   \n",
       "51              The Silent Patient by Alex Michaelides           2   \n",
       "231                              Dune by Frank Herbert           2   \n",
       "159                          The Art of War by Sun Tzu           3   \n",
       "213   The Girl with the Dragon Tattoo by Stieg Larsson           3   \n",
       "81                        The Hobbit by J.R.R. Tolkien           3   \n",
       "\n",
       "     Unit Price  Total Revenue         Region Payment Method  \n",
       "202       52.00          52.00         Europe         PayPal  \n",
       "40       105.00         105.00         Europe         PayPal  \n",
       "117       16.99          67.96  North America    Credit Card  \n",
       "121       89.99          89.99         Europe         PayPal  \n",
       "217      449.99         449.99         Europe         PayPal  \n",
       "59       349.00         349.00           Asia    Credit Card  \n",
       "0        999.99        1999.98  North America    Credit Card  \n",
       "12       749.99        1499.98  North America    Credit Card  \n",
       "207       16.99          50.97  North America    Credit Card  \n",
       "194      179.99         359.98           Asia     Debit Card  \n",
       "193      199.95         199.95         Europe         PayPal  \n",
       "34        39.99          79.98         Europe         PayPal  \n",
       "175       49.99          99.98         Europe         PayPal  \n",
       "141       11.99          23.98  North America    Credit Card  \n",
       "82       100.00         100.00         Europe         PayPal  \n",
       "118       14.99          29.98         Europe         PayPal  \n",
       "216     2399.00        2399.00  North America    Credit Card  \n",
       "47        39.99         239.94           Asia    Credit Card  \n",
       "236       90.00         270.00           Asia     Debit Card  \n",
       "136        6.80           6.80         Europe         PayPal  \n",
       "51        26.99          53.98  North America    Credit Card  \n",
       "231        9.99          19.98  North America    Credit Card  \n",
       "159        7.99          23.97  North America    Credit Card  \n",
       "213       10.99          32.97  North America    Credit Card  \n",
       "81        12.99          38.97  North America    Credit Card  "
      ]
     },
     "execution_count": 29,
     "metadata": {},
     "output_type": "execute_result"
    }
   ],
   "source": [
    "df.sample(25)"
   ]
  },
  {
   "cell_type": "code",
   "execution_count": 11,
   "id": "5c003da6",
   "metadata": {},
   "outputs": [
    {
     "data": {
      "text/html": [
       "<div>\n",
       "<style scoped>\n",
       "    .dataframe tbody tr th:only-of-type {\n",
       "        vertical-align: middle;\n",
       "    }\n",
       "\n",
       "    .dataframe tbody tr th {\n",
       "        vertical-align: top;\n",
       "    }\n",
       "\n",
       "    .dataframe thead th {\n",
       "        text-align: right;\n",
       "    }\n",
       "</style>\n",
       "<table border=\"1\" class=\"dataframe\">\n",
       "  <thead>\n",
       "    <tr style=\"text-align: right;\">\n",
       "      <th></th>\n",
       "      <th>Transaction ID</th>\n",
       "      <th>Date</th>\n",
       "      <th>Product Category</th>\n",
       "      <th>Product Name</th>\n",
       "      <th>Units Sold</th>\n",
       "      <th>Unit Price</th>\n",
       "      <th>Total Revenue</th>\n",
       "      <th>Region</th>\n",
       "      <th>Payment Method</th>\n",
       "    </tr>\n",
       "  </thead>\n",
       "  <tbody>\n",
       "    <tr>\n",
       "      <th>235</th>\n",
       "      <td>10236</td>\n",
       "      <td>2024-08-23</td>\n",
       "      <td>Home Appliances</td>\n",
       "      <td>Nespresso Vertuo Next Coffee and Espresso Maker</td>\n",
       "      <td>1</td>\n",
       "      <td>159.99</td>\n",
       "      <td>159.99</td>\n",
       "      <td>Europe</td>\n",
       "      <td>PayPal</td>\n",
       "    </tr>\n",
       "    <tr>\n",
       "      <th>236</th>\n",
       "      <td>10237</td>\n",
       "      <td>2024-08-24</td>\n",
       "      <td>Clothing</td>\n",
       "      <td>Nike Air Force 1 Sneakers</td>\n",
       "      <td>3</td>\n",
       "      <td>90.00</td>\n",
       "      <td>270.00</td>\n",
       "      <td>Asia</td>\n",
       "      <td>Debit Card</td>\n",
       "    </tr>\n",
       "    <tr>\n",
       "      <th>237</th>\n",
       "      <td>10238</td>\n",
       "      <td>2024-08-25</td>\n",
       "      <td>Books</td>\n",
       "      <td>The Handmaid's Tale by Margaret Atwood</td>\n",
       "      <td>3</td>\n",
       "      <td>10.99</td>\n",
       "      <td>32.97</td>\n",
       "      <td>North America</td>\n",
       "      <td>Credit Card</td>\n",
       "    </tr>\n",
       "    <tr>\n",
       "      <th>238</th>\n",
       "      <td>10239</td>\n",
       "      <td>2024-08-26</td>\n",
       "      <td>Beauty Products</td>\n",
       "      <td>Sunday Riley Luna Sleeping Night Oil</td>\n",
       "      <td>1</td>\n",
       "      <td>55.00</td>\n",
       "      <td>55.00</td>\n",
       "      <td>Europe</td>\n",
       "      <td>PayPal</td>\n",
       "    </tr>\n",
       "    <tr>\n",
       "      <th>239</th>\n",
       "      <td>10240</td>\n",
       "      <td>2024-08-27</td>\n",
       "      <td>Sports</td>\n",
       "      <td>Yeti Rambler 20 oz Tumbler</td>\n",
       "      <td>2</td>\n",
       "      <td>29.99</td>\n",
       "      <td>59.98</td>\n",
       "      <td>Asia</td>\n",
       "      <td>Credit Card</td>\n",
       "    </tr>\n",
       "  </tbody>\n",
       "</table>\n",
       "</div>"
      ],
      "text/plain": [
       "     Transaction ID        Date Product Category  \\\n",
       "235           10236  2024-08-23  Home Appliances   \n",
       "236           10237  2024-08-24         Clothing   \n",
       "237           10238  2024-08-25            Books   \n",
       "238           10239  2024-08-26  Beauty Products   \n",
       "239           10240  2024-08-27           Sports   \n",
       "\n",
       "                                        Product Name  Units Sold  Unit Price  \\\n",
       "235  Nespresso Vertuo Next Coffee and Espresso Maker           1      159.99   \n",
       "236                        Nike Air Force 1 Sneakers           3       90.00   \n",
       "237           The Handmaid's Tale by Margaret Atwood           3       10.99   \n",
       "238             Sunday Riley Luna Sleeping Night Oil           1       55.00   \n",
       "239                       Yeti Rambler 20 oz Tumbler           2       29.99   \n",
       "\n",
       "     Total Revenue         Region Payment Method  \n",
       "235         159.99         Europe         PayPal  \n",
       "236         270.00           Asia     Debit Card  \n",
       "237          32.97  North America    Credit Card  \n",
       "238          55.00         Europe         PayPal  \n",
       "239          59.98           Asia    Credit Card  "
      ]
     },
     "execution_count": 11,
     "metadata": {},
     "output_type": "execute_result"
    }
   ],
   "source": [
    "df.tail()"
   ]
  },
  {
   "cell_type": "code",
   "execution_count": 12,
   "id": "6986c83c",
   "metadata": {},
   "outputs": [
    {
     "data": {
      "text/html": [
       "<div>\n",
       "<style scoped>\n",
       "    .dataframe tbody tr th:only-of-type {\n",
       "        vertical-align: middle;\n",
       "    }\n",
       "\n",
       "    .dataframe tbody tr th {\n",
       "        vertical-align: top;\n",
       "    }\n",
       "\n",
       "    .dataframe thead th {\n",
       "        text-align: right;\n",
       "    }\n",
       "</style>\n",
       "<table border=\"1\" class=\"dataframe\">\n",
       "  <thead>\n",
       "    <tr style=\"text-align: right;\">\n",
       "      <th></th>\n",
       "      <th>Transaction ID</th>\n",
       "      <th>Date</th>\n",
       "      <th>Product Category</th>\n",
       "      <th>Product Name</th>\n",
       "      <th>Units Sold</th>\n",
       "      <th>Unit Price</th>\n",
       "      <th>Total Revenue</th>\n",
       "      <th>Region</th>\n",
       "      <th>Payment Method</th>\n",
       "    </tr>\n",
       "  </thead>\n",
       "  <tbody>\n",
       "    <tr>\n",
       "      <th>0</th>\n",
       "      <td>10001</td>\n",
       "      <td>2024-01-01</td>\n",
       "      <td>Electronics</td>\n",
       "      <td>iPhone 14 Pro</td>\n",
       "      <td>2</td>\n",
       "      <td>999.99</td>\n",
       "      <td>1999.98</td>\n",
       "      <td>North America</td>\n",
       "      <td>Credit Card</td>\n",
       "    </tr>\n",
       "    <tr>\n",
       "      <th>1</th>\n",
       "      <td>10002</td>\n",
       "      <td>2024-01-02</td>\n",
       "      <td>Home Appliances</td>\n",
       "      <td>Dyson V11 Vacuum</td>\n",
       "      <td>1</td>\n",
       "      <td>499.99</td>\n",
       "      <td>499.99</td>\n",
       "      <td>Europe</td>\n",
       "      <td>PayPal</td>\n",
       "    </tr>\n",
       "    <tr>\n",
       "      <th>2</th>\n",
       "      <td>10003</td>\n",
       "      <td>2024-01-03</td>\n",
       "      <td>Clothing</td>\n",
       "      <td>Levi's 501 Jeans</td>\n",
       "      <td>3</td>\n",
       "      <td>69.99</td>\n",
       "      <td>209.97</td>\n",
       "      <td>Asia</td>\n",
       "      <td>Debit Card</td>\n",
       "    </tr>\n",
       "    <tr>\n",
       "      <th>3</th>\n",
       "      <td>10004</td>\n",
       "      <td>2024-01-04</td>\n",
       "      <td>Books</td>\n",
       "      <td>The Da Vinci Code</td>\n",
       "      <td>4</td>\n",
       "      <td>15.99</td>\n",
       "      <td>63.96</td>\n",
       "      <td>North America</td>\n",
       "      <td>Credit Card</td>\n",
       "    </tr>\n",
       "    <tr>\n",
       "      <th>4</th>\n",
       "      <td>10005</td>\n",
       "      <td>2024-01-05</td>\n",
       "      <td>Beauty Products</td>\n",
       "      <td>Neutrogena Skincare Set</td>\n",
       "      <td>1</td>\n",
       "      <td>89.99</td>\n",
       "      <td>89.99</td>\n",
       "      <td>Europe</td>\n",
       "      <td>PayPal</td>\n",
       "    </tr>\n",
       "  </tbody>\n",
       "</table>\n",
       "</div>"
      ],
      "text/plain": [
       "   Transaction ID        Date Product Category             Product Name  \\\n",
       "0           10001  2024-01-01      Electronics            iPhone 14 Pro   \n",
       "1           10002  2024-01-02  Home Appliances         Dyson V11 Vacuum   \n",
       "2           10003  2024-01-03         Clothing         Levi's 501 Jeans   \n",
       "3           10004  2024-01-04            Books        The Da Vinci Code   \n",
       "4           10005  2024-01-05  Beauty Products  Neutrogena Skincare Set   \n",
       "\n",
       "   Units Sold  Unit Price  Total Revenue         Region Payment Method  \n",
       "0           2      999.99        1999.98  North America    Credit Card  \n",
       "1           1      499.99         499.99         Europe         PayPal  \n",
       "2           3       69.99         209.97           Asia     Debit Card  \n",
       "3           4       15.99          63.96  North America    Credit Card  \n",
       "4           1       89.99          89.99         Europe         PayPal  "
      ]
     },
     "execution_count": 12,
     "metadata": {},
     "output_type": "execute_result"
    }
   ],
   "source": [
    "df.head()"
   ]
  },
  {
   "cell_type": "code",
   "execution_count": 26,
   "id": "f7f6cea0",
   "metadata": {},
   "outputs": [
    {
     "data": {
      "text/plain": [
       "2"
      ]
     },
     "execution_count": 26,
     "metadata": {},
     "output_type": "execute_result"
    }
   ],
   "source": [
    "df.ndim"
   ]
  },
  {
   "cell_type": "code",
   "execution_count": 13,
   "id": "09b8852e",
   "metadata": {},
   "outputs": [
    {
     "data": {
      "text/plain": [
       "0      False\n",
       "1      False\n",
       "2      False\n",
       "3      False\n",
       "4      False\n",
       "       ...  \n",
       "235    False\n",
       "236    False\n",
       "237    False\n",
       "238    False\n",
       "239    False\n",
       "Length: 240, dtype: bool"
      ]
     },
     "execution_count": 13,
     "metadata": {},
     "output_type": "execute_result"
    }
   ],
   "source": [
    "df.duplicated()"
   ]
  },
  {
   "cell_type": "code",
   "execution_count": 14,
   "id": "03779f66",
   "metadata": {},
   "outputs": [
    {
     "data": {
      "text/plain": [
       "0"
      ]
     },
     "execution_count": 14,
     "metadata": {},
     "output_type": "execute_result"
    }
   ],
   "source": [
    "df.duplicated().sum()"
   ]
  },
  {
   "cell_type": "code",
   "execution_count": 15,
   "id": "03a22ec8",
   "metadata": {},
   "outputs": [
    {
     "data": {
      "text/html": [
       "<div>\n",
       "<style scoped>\n",
       "    .dataframe tbody tr th:only-of-type {\n",
       "        vertical-align: middle;\n",
       "    }\n",
       "\n",
       "    .dataframe tbody tr th {\n",
       "        vertical-align: top;\n",
       "    }\n",
       "\n",
       "    .dataframe thead th {\n",
       "        text-align: right;\n",
       "    }\n",
       "</style>\n",
       "<table border=\"1\" class=\"dataframe\">\n",
       "  <thead>\n",
       "    <tr style=\"text-align: right;\">\n",
       "      <th></th>\n",
       "      <th>Transaction ID</th>\n",
       "      <th>Date</th>\n",
       "      <th>Product Category</th>\n",
       "      <th>Product Name</th>\n",
       "      <th>Units Sold</th>\n",
       "      <th>Unit Price</th>\n",
       "      <th>Total Revenue</th>\n",
       "      <th>Region</th>\n",
       "      <th>Payment Method</th>\n",
       "    </tr>\n",
       "  </thead>\n",
       "  <tbody>\n",
       "    <tr>\n",
       "      <th>0</th>\n",
       "      <td>False</td>\n",
       "      <td>False</td>\n",
       "      <td>False</td>\n",
       "      <td>False</td>\n",
       "      <td>False</td>\n",
       "      <td>False</td>\n",
       "      <td>False</td>\n",
       "      <td>False</td>\n",
       "      <td>False</td>\n",
       "    </tr>\n",
       "    <tr>\n",
       "      <th>1</th>\n",
       "      <td>False</td>\n",
       "      <td>False</td>\n",
       "      <td>False</td>\n",
       "      <td>False</td>\n",
       "      <td>False</td>\n",
       "      <td>False</td>\n",
       "      <td>False</td>\n",
       "      <td>False</td>\n",
       "      <td>False</td>\n",
       "    </tr>\n",
       "    <tr>\n",
       "      <th>2</th>\n",
       "      <td>False</td>\n",
       "      <td>False</td>\n",
       "      <td>False</td>\n",
       "      <td>False</td>\n",
       "      <td>False</td>\n",
       "      <td>False</td>\n",
       "      <td>False</td>\n",
       "      <td>False</td>\n",
       "      <td>False</td>\n",
       "    </tr>\n",
       "    <tr>\n",
       "      <th>3</th>\n",
       "      <td>False</td>\n",
       "      <td>False</td>\n",
       "      <td>False</td>\n",
       "      <td>False</td>\n",
       "      <td>False</td>\n",
       "      <td>False</td>\n",
       "      <td>False</td>\n",
       "      <td>False</td>\n",
       "      <td>False</td>\n",
       "    </tr>\n",
       "    <tr>\n",
       "      <th>4</th>\n",
       "      <td>False</td>\n",
       "      <td>False</td>\n",
       "      <td>False</td>\n",
       "      <td>False</td>\n",
       "      <td>False</td>\n",
       "      <td>False</td>\n",
       "      <td>False</td>\n",
       "      <td>False</td>\n",
       "      <td>False</td>\n",
       "    </tr>\n",
       "    <tr>\n",
       "      <th>...</th>\n",
       "      <td>...</td>\n",
       "      <td>...</td>\n",
       "      <td>...</td>\n",
       "      <td>...</td>\n",
       "      <td>...</td>\n",
       "      <td>...</td>\n",
       "      <td>...</td>\n",
       "      <td>...</td>\n",
       "      <td>...</td>\n",
       "    </tr>\n",
       "    <tr>\n",
       "      <th>235</th>\n",
       "      <td>False</td>\n",
       "      <td>False</td>\n",
       "      <td>False</td>\n",
       "      <td>False</td>\n",
       "      <td>False</td>\n",
       "      <td>False</td>\n",
       "      <td>False</td>\n",
       "      <td>False</td>\n",
       "      <td>False</td>\n",
       "    </tr>\n",
       "    <tr>\n",
       "      <th>236</th>\n",
       "      <td>False</td>\n",
       "      <td>False</td>\n",
       "      <td>False</td>\n",
       "      <td>False</td>\n",
       "      <td>False</td>\n",
       "      <td>False</td>\n",
       "      <td>False</td>\n",
       "      <td>False</td>\n",
       "      <td>False</td>\n",
       "    </tr>\n",
       "    <tr>\n",
       "      <th>237</th>\n",
       "      <td>False</td>\n",
       "      <td>False</td>\n",
       "      <td>False</td>\n",
       "      <td>False</td>\n",
       "      <td>False</td>\n",
       "      <td>False</td>\n",
       "      <td>False</td>\n",
       "      <td>False</td>\n",
       "      <td>False</td>\n",
       "    </tr>\n",
       "    <tr>\n",
       "      <th>238</th>\n",
       "      <td>False</td>\n",
       "      <td>False</td>\n",
       "      <td>False</td>\n",
       "      <td>False</td>\n",
       "      <td>False</td>\n",
       "      <td>False</td>\n",
       "      <td>False</td>\n",
       "      <td>False</td>\n",
       "      <td>False</td>\n",
       "    </tr>\n",
       "    <tr>\n",
       "      <th>239</th>\n",
       "      <td>False</td>\n",
       "      <td>False</td>\n",
       "      <td>False</td>\n",
       "      <td>False</td>\n",
       "      <td>False</td>\n",
       "      <td>False</td>\n",
       "      <td>False</td>\n",
       "      <td>False</td>\n",
       "      <td>False</td>\n",
       "    </tr>\n",
       "  </tbody>\n",
       "</table>\n",
       "<p>240 rows × 9 columns</p>\n",
       "</div>"
      ],
      "text/plain": [
       "     Transaction ID   Date  Product Category  Product Name  Units Sold  \\\n",
       "0             False  False             False         False       False   \n",
       "1             False  False             False         False       False   \n",
       "2             False  False             False         False       False   \n",
       "3             False  False             False         False       False   \n",
       "4             False  False             False         False       False   \n",
       "..              ...    ...               ...           ...         ...   \n",
       "235           False  False             False         False       False   \n",
       "236           False  False             False         False       False   \n",
       "237           False  False             False         False       False   \n",
       "238           False  False             False         False       False   \n",
       "239           False  False             False         False       False   \n",
       "\n",
       "     Unit Price  Total Revenue  Region  Payment Method  \n",
       "0         False          False   False           False  \n",
       "1         False          False   False           False  \n",
       "2         False          False   False           False  \n",
       "3         False          False   False           False  \n",
       "4         False          False   False           False  \n",
       "..          ...            ...     ...             ...  \n",
       "235       False          False   False           False  \n",
       "236       False          False   False           False  \n",
       "237       False          False   False           False  \n",
       "238       False          False   False           False  \n",
       "239       False          False   False           False  \n",
       "\n",
       "[240 rows x 9 columns]"
      ]
     },
     "execution_count": 15,
     "metadata": {},
     "output_type": "execute_result"
    }
   ],
   "source": [
    "df.isnull()"
   ]
  },
  {
   "cell_type": "code",
   "execution_count": 16,
   "id": "c29db25c",
   "metadata": {},
   "outputs": [
    {
     "data": {
      "text/plain": [
       "Transaction ID      0\n",
       "Date                0\n",
       "Product Category    0\n",
       "Product Name        0\n",
       "Units Sold          0\n",
       "Unit Price          0\n",
       "Total Revenue       0\n",
       "Region              0\n",
       "Payment Method      0\n",
       "dtype: int64"
      ]
     },
     "execution_count": 16,
     "metadata": {},
     "output_type": "execute_result"
    }
   ],
   "source": [
    "df.isnull().sum()"
   ]
  },
  {
   "cell_type": "markdown",
   "id": "c29fb640",
   "metadata": {},
   "source": [
    "###### Observation: There are no missing value in the dataset"
   ]
  },
  {
   "cell_type": "markdown",
   "id": "c982176f",
   "metadata": {},
   "source": [
    "## Performing Descriptive Analysis on the dataset"
   ]
  },
  {
   "cell_type": "code",
   "execution_count": 32,
   "id": "2e0ee173",
   "metadata": {},
   "outputs": [
    {
     "data": {
      "text/html": [
       "<div>\n",
       "<style scoped>\n",
       "    .dataframe tbody tr th:only-of-type {\n",
       "        vertical-align: middle;\n",
       "    }\n",
       "\n",
       "    .dataframe tbody tr th {\n",
       "        vertical-align: top;\n",
       "    }\n",
       "\n",
       "    .dataframe thead th {\n",
       "        text-align: right;\n",
       "    }\n",
       "</style>\n",
       "<table border=\"1\" class=\"dataframe\">\n",
       "  <thead>\n",
       "    <tr style=\"text-align: right;\">\n",
       "      <th></th>\n",
       "      <th>Transaction ID</th>\n",
       "      <th>Units Sold</th>\n",
       "      <th>Unit Price</th>\n",
       "      <th>Total Revenue</th>\n",
       "    </tr>\n",
       "  </thead>\n",
       "  <tbody>\n",
       "    <tr>\n",
       "      <th>count</th>\n",
       "      <td>240.00000</td>\n",
       "      <td>240.000000</td>\n",
       "      <td>240.000000</td>\n",
       "      <td>240.000000</td>\n",
       "    </tr>\n",
       "    <tr>\n",
       "      <th>mean</th>\n",
       "      <td>10120.50000</td>\n",
       "      <td>2.158333</td>\n",
       "      <td>236.395583</td>\n",
       "      <td>335.699375</td>\n",
       "    </tr>\n",
       "    <tr>\n",
       "      <th>std</th>\n",
       "      <td>69.42622</td>\n",
       "      <td>1.322454</td>\n",
       "      <td>429.446695</td>\n",
       "      <td>485.804469</td>\n",
       "    </tr>\n",
       "    <tr>\n",
       "      <th>min</th>\n",
       "      <td>10001.00000</td>\n",
       "      <td>1.000000</td>\n",
       "      <td>6.500000</td>\n",
       "      <td>6.500000</td>\n",
       "    </tr>\n",
       "    <tr>\n",
       "      <th>25%</th>\n",
       "      <td>10060.75000</td>\n",
       "      <td>1.000000</td>\n",
       "      <td>29.500000</td>\n",
       "      <td>62.965000</td>\n",
       "    </tr>\n",
       "    <tr>\n",
       "      <th>50%</th>\n",
       "      <td>10120.50000</td>\n",
       "      <td>2.000000</td>\n",
       "      <td>89.990000</td>\n",
       "      <td>179.970000</td>\n",
       "    </tr>\n",
       "    <tr>\n",
       "      <th>75%</th>\n",
       "      <td>10180.25000</td>\n",
       "      <td>3.000000</td>\n",
       "      <td>249.990000</td>\n",
       "      <td>399.225000</td>\n",
       "    </tr>\n",
       "    <tr>\n",
       "      <th>max</th>\n",
       "      <td>10240.00000</td>\n",
       "      <td>10.000000</td>\n",
       "      <td>3899.990000</td>\n",
       "      <td>3899.990000</td>\n",
       "    </tr>\n",
       "  </tbody>\n",
       "</table>\n",
       "</div>"
      ],
      "text/plain": [
       "       Transaction ID  Units Sold   Unit Price  Total Revenue\n",
       "count       240.00000  240.000000   240.000000     240.000000\n",
       "mean      10120.50000    2.158333   236.395583     335.699375\n",
       "std          69.42622    1.322454   429.446695     485.804469\n",
       "min       10001.00000    1.000000     6.500000       6.500000\n",
       "25%       10060.75000    1.000000    29.500000      62.965000\n",
       "50%       10120.50000    2.000000    89.990000     179.970000\n",
       "75%       10180.25000    3.000000   249.990000     399.225000\n",
       "max       10240.00000   10.000000  3899.990000    3899.990000"
      ]
     },
     "execution_count": 32,
     "metadata": {},
     "output_type": "execute_result"
    }
   ],
   "source": [
    "# checking for descriptive statistics but only numerical columns\n",
    "df.describe()"
   ]
  },
  {
   "cell_type": "code",
   "execution_count": 33,
   "id": "e8695863",
   "metadata": {},
   "outputs": [
    {
     "data": {
      "text/html": [
       "<div>\n",
       "<style scoped>\n",
       "    .dataframe tbody tr th:only-of-type {\n",
       "        vertical-align: middle;\n",
       "    }\n",
       "\n",
       "    .dataframe tbody tr th {\n",
       "        vertical-align: top;\n",
       "    }\n",
       "\n",
       "    .dataframe thead th {\n",
       "        text-align: right;\n",
       "    }\n",
       "</style>\n",
       "<table border=\"1\" class=\"dataframe\">\n",
       "  <thead>\n",
       "    <tr style=\"text-align: right;\">\n",
       "      <th></th>\n",
       "      <th>Transaction ID</th>\n",
       "      <th>Date</th>\n",
       "      <th>Product Category</th>\n",
       "      <th>Product Name</th>\n",
       "      <th>Units Sold</th>\n",
       "      <th>Unit Price</th>\n",
       "      <th>Total Revenue</th>\n",
       "      <th>Region</th>\n",
       "      <th>Payment Method</th>\n",
       "    </tr>\n",
       "  </thead>\n",
       "  <tbody>\n",
       "    <tr>\n",
       "      <th>count</th>\n",
       "      <td>240.00000</td>\n",
       "      <td>240</td>\n",
       "      <td>240</td>\n",
       "      <td>240</td>\n",
       "      <td>240.000000</td>\n",
       "      <td>240.000000</td>\n",
       "      <td>240.000000</td>\n",
       "      <td>240</td>\n",
       "      <td>240</td>\n",
       "    </tr>\n",
       "    <tr>\n",
       "      <th>unique</th>\n",
       "      <td>NaN</td>\n",
       "      <td>240</td>\n",
       "      <td>6</td>\n",
       "      <td>232</td>\n",
       "      <td>NaN</td>\n",
       "      <td>NaN</td>\n",
       "      <td>NaN</td>\n",
       "      <td>3</td>\n",
       "      <td>3</td>\n",
       "    </tr>\n",
       "    <tr>\n",
       "      <th>top</th>\n",
       "      <td>NaN</td>\n",
       "      <td>2024-01-01</td>\n",
       "      <td>Electronics</td>\n",
       "      <td>Dyson Supersonic Hair Dryer</td>\n",
       "      <td>NaN</td>\n",
       "      <td>NaN</td>\n",
       "      <td>NaN</td>\n",
       "      <td>North America</td>\n",
       "      <td>Credit Card</td>\n",
       "    </tr>\n",
       "    <tr>\n",
       "      <th>freq</th>\n",
       "      <td>NaN</td>\n",
       "      <td>1</td>\n",
       "      <td>40</td>\n",
       "      <td>2</td>\n",
       "      <td>NaN</td>\n",
       "      <td>NaN</td>\n",
       "      <td>NaN</td>\n",
       "      <td>80</td>\n",
       "      <td>120</td>\n",
       "    </tr>\n",
       "    <tr>\n",
       "      <th>mean</th>\n",
       "      <td>10120.50000</td>\n",
       "      <td>NaN</td>\n",
       "      <td>NaN</td>\n",
       "      <td>NaN</td>\n",
       "      <td>2.158333</td>\n",
       "      <td>236.395583</td>\n",
       "      <td>335.699375</td>\n",
       "      <td>NaN</td>\n",
       "      <td>NaN</td>\n",
       "    </tr>\n",
       "    <tr>\n",
       "      <th>std</th>\n",
       "      <td>69.42622</td>\n",
       "      <td>NaN</td>\n",
       "      <td>NaN</td>\n",
       "      <td>NaN</td>\n",
       "      <td>1.322454</td>\n",
       "      <td>429.446695</td>\n",
       "      <td>485.804469</td>\n",
       "      <td>NaN</td>\n",
       "      <td>NaN</td>\n",
       "    </tr>\n",
       "    <tr>\n",
       "      <th>min</th>\n",
       "      <td>10001.00000</td>\n",
       "      <td>NaN</td>\n",
       "      <td>NaN</td>\n",
       "      <td>NaN</td>\n",
       "      <td>1.000000</td>\n",
       "      <td>6.500000</td>\n",
       "      <td>6.500000</td>\n",
       "      <td>NaN</td>\n",
       "      <td>NaN</td>\n",
       "    </tr>\n",
       "    <tr>\n",
       "      <th>25%</th>\n",
       "      <td>10060.75000</td>\n",
       "      <td>NaN</td>\n",
       "      <td>NaN</td>\n",
       "      <td>NaN</td>\n",
       "      <td>1.000000</td>\n",
       "      <td>29.500000</td>\n",
       "      <td>62.965000</td>\n",
       "      <td>NaN</td>\n",
       "      <td>NaN</td>\n",
       "    </tr>\n",
       "    <tr>\n",
       "      <th>50%</th>\n",
       "      <td>10120.50000</td>\n",
       "      <td>NaN</td>\n",
       "      <td>NaN</td>\n",
       "      <td>NaN</td>\n",
       "      <td>2.000000</td>\n",
       "      <td>89.990000</td>\n",
       "      <td>179.970000</td>\n",
       "      <td>NaN</td>\n",
       "      <td>NaN</td>\n",
       "    </tr>\n",
       "    <tr>\n",
       "      <th>75%</th>\n",
       "      <td>10180.25000</td>\n",
       "      <td>NaN</td>\n",
       "      <td>NaN</td>\n",
       "      <td>NaN</td>\n",
       "      <td>3.000000</td>\n",
       "      <td>249.990000</td>\n",
       "      <td>399.225000</td>\n",
       "      <td>NaN</td>\n",
       "      <td>NaN</td>\n",
       "    </tr>\n",
       "    <tr>\n",
       "      <th>max</th>\n",
       "      <td>10240.00000</td>\n",
       "      <td>NaN</td>\n",
       "      <td>NaN</td>\n",
       "      <td>NaN</td>\n",
       "      <td>10.000000</td>\n",
       "      <td>3899.990000</td>\n",
       "      <td>3899.990000</td>\n",
       "      <td>NaN</td>\n",
       "      <td>NaN</td>\n",
       "    </tr>\n",
       "  </tbody>\n",
       "</table>\n",
       "</div>"
      ],
      "text/plain": [
       "        Transaction ID        Date Product Category  \\\n",
       "count        240.00000         240              240   \n",
       "unique             NaN         240                6   \n",
       "top                NaN  2024-01-01      Electronics   \n",
       "freq               NaN           1               40   \n",
       "mean       10120.50000         NaN              NaN   \n",
       "std           69.42622         NaN              NaN   \n",
       "min        10001.00000         NaN              NaN   \n",
       "25%        10060.75000         NaN              NaN   \n",
       "50%        10120.50000         NaN              NaN   \n",
       "75%        10180.25000         NaN              NaN   \n",
       "max        10240.00000         NaN              NaN   \n",
       "\n",
       "                       Product Name  Units Sold   Unit Price  Total Revenue  \\\n",
       "count                           240  240.000000   240.000000     240.000000   \n",
       "unique                          232         NaN          NaN            NaN   \n",
       "top     Dyson Supersonic Hair Dryer         NaN          NaN            NaN   \n",
       "freq                              2         NaN          NaN            NaN   \n",
       "mean                            NaN    2.158333   236.395583     335.699375   \n",
       "std                             NaN    1.322454   429.446695     485.804469   \n",
       "min                             NaN    1.000000     6.500000       6.500000   \n",
       "25%                             NaN    1.000000    29.500000      62.965000   \n",
       "50%                             NaN    2.000000    89.990000     179.970000   \n",
       "75%                             NaN    3.000000   249.990000     399.225000   \n",
       "max                             NaN   10.000000  3899.990000    3899.990000   \n",
       "\n",
       "               Region Payment Method  \n",
       "count             240            240  \n",
       "unique              3              3  \n",
       "top     North America    Credit Card  \n",
       "freq               80            120  \n",
       "mean              NaN            NaN  \n",
       "std               NaN            NaN  \n",
       "min               NaN            NaN  \n",
       "25%               NaN            NaN  \n",
       "50%               NaN            NaN  \n",
       "75%               NaN            NaN  \n",
       "max               NaN            NaN  "
      ]
     },
     "execution_count": 33,
     "metadata": {},
     "output_type": "execute_result"
    }
   ],
   "source": [
    "# checking for descriptive statistic but in categorical columns\n",
    "df.describe(include='all')"
   ]
  },
  {
   "cell_type": "markdown",
   "id": "b1ebf413",
   "metadata": {},
   "source": [
    "#### Multivariate Analysis"
   ]
  },
  {
   "cell_type": "code",
   "execution_count": 94,
   "id": "4b984e6c",
   "metadata": {
    "scrolled": true
   },
   "outputs": [
    {
     "data": {
      "text/html": [
       "<div>\n",
       "<style scoped>\n",
       "    .dataframe tbody tr th:only-of-type {\n",
       "        vertical-align: middle;\n",
       "    }\n",
       "\n",
       "    .dataframe tbody tr th {\n",
       "        vertical-align: top;\n",
       "    }\n",
       "\n",
       "    .dataframe thead th {\n",
       "        text-align: right;\n",
       "    }\n",
       "</style>\n",
       "<table border=\"1\" class=\"dataframe\">\n",
       "  <thead>\n",
       "    <tr style=\"text-align: right;\">\n",
       "      <th></th>\n",
       "      <th>Transaction ID</th>\n",
       "      <th>Units Sold</th>\n",
       "      <th>Unit Price</th>\n",
       "      <th>Total Revenue</th>\n",
       "    </tr>\n",
       "  </thead>\n",
       "  <tbody>\n",
       "    <tr>\n",
       "      <th>Transaction ID</th>\n",
       "      <td>1.000000</td>\n",
       "      <td>-0.189944</td>\n",
       "      <td>-0.071863</td>\n",
       "      <td>-0.175622</td>\n",
       "    </tr>\n",
       "    <tr>\n",
       "      <th>Units Sold</th>\n",
       "      <td>-0.189944</td>\n",
       "      <td>1.000000</td>\n",
       "      <td>-0.308583</td>\n",
       "      <td>-0.171151</td>\n",
       "    </tr>\n",
       "    <tr>\n",
       "      <th>Unit Price</th>\n",
       "      <td>-0.071863</td>\n",
       "      <td>-0.308583</td>\n",
       "      <td>1.000000</td>\n",
       "      <td>0.930350</td>\n",
       "    </tr>\n",
       "    <tr>\n",
       "      <th>Total Revenue</th>\n",
       "      <td>-0.175622</td>\n",
       "      <td>-0.171151</td>\n",
       "      <td>0.930350</td>\n",
       "      <td>1.000000</td>\n",
       "    </tr>\n",
       "  </tbody>\n",
       "</table>\n",
       "</div>"
      ],
      "text/plain": [
       "                Transaction ID  Units Sold  Unit Price  Total Revenue\n",
       "Transaction ID        1.000000   -0.189944   -0.071863      -0.175622\n",
       "Units Sold           -0.189944    1.000000   -0.308583      -0.171151\n",
       "Unit Price           -0.071863   -0.308583    1.000000       0.930350\n",
       "Total Revenue        -0.175622   -0.171151    0.930350       1.000000"
      ]
     },
     "execution_count": 94,
     "metadata": {},
     "output_type": "execute_result"
    }
   ],
   "source": [
    "# checking for correlation in numerical columns\n",
    "df.corr(numeric_only=True)"
   ]
  },
  {
   "cell_type": "code",
   "execution_count": 52,
   "id": "2d2ba56e",
   "metadata": {},
   "outputs": [
    {
     "data": {
      "image/png": "[encoded data removed]",
      "text/plain": [
       "<Figure size 640x480 with 2 Axes>"
      ]
     },
     "metadata": {},
     "output_type": "display_data"
    }
   ],
   "source": [
    "sns.heatmap(df.corr(numeric_only=True), annot=True)\n",
    "plt.title(\"Multivariate Analysis\")\n",
    "plt.show()"
   ]
  },
  {
   "cell_type": "markdown",
   "id": "1c4ecee9",
   "metadata": {},
   "source": [
    "## checking columns for irrelevancy"
   ]
  },
  {
   "cell_type": "code",
   "execution_count": 34,
   "id": "9d5acedb",
   "metadata": {},
   "outputs": [
    {
     "data": {
      "text/plain": [
       "Index(['Transaction ID', 'Date', 'Product Category', 'Product Name',\n",
       "       'Units Sold', 'Unit Price', 'Total Revenue', 'Region',\n",
       "       'Payment Method'],\n",
       "      dtype='object')"
      ]
     },
     "execution_count": 34,
     "metadata": {},
     "output_type": "execute_result"
    }
   ],
   "source": [
    "df.columns"
   ]
  },
  {
   "cell_type": "code",
   "execution_count": 57,
   "id": "be88a4da",
   "metadata": {},
   "outputs": [
    {
     "data": {
      "text/plain": [
       "0      10001\n",
       "1      10002\n",
       "2      10003\n",
       "3      10004\n",
       "4      10005\n",
       "       ...  \n",
       "235    10236\n",
       "236    10237\n",
       "237    10238\n",
       "238    10239\n",
       "239    10240\n",
       "Name: Transaction ID, Length: 240, dtype: int64"
      ]
     },
     "execution_count": 57,
     "metadata": {},
     "output_type": "execute_result"
    }
   ],
   "source": [
    "df['Transaction ID']"
   ]
  },
  {
   "cell_type": "code",
   "execution_count": 68,
   "id": "1a4f558b",
   "metadata": {},
   "outputs": [
    {
     "data": {
      "text/plain": [
       "array([10001, 10002, 10003, 10004, 10005, 10006, 10007, 10008, 10009,\n",
       "       10010, 10011, 10012, 10013, 10014, 10015, 10016, 10017, 10018,\n",
       "       10019, 10020, 10021, 10022, 10023, 10024, 10025, 10026, 10027,\n",
       "       10028, 10029, 10030, 10031, 10032, 10033, 10034, 10035, 10036,\n",
       "       10037, 10038, 10039, 10040, 10041, 10042, 10043, 10044, 10045,\n",
       "       10046, 10047, 10048, 10049, 10050, 10051, 10052, 10053, 10054,\n",
       "       10055, 10056, 10057, 10058, 10059, 10060, 10061, 10062, 10063,\n",
       "       10064, 10065, 10066, 10067, 10068, 10069, 10070, 10071, 10072,\n",
       "       10073, 10074, 10075, 10076, 10077, 10078, 10079, 10080, 10081,\n",
       "       10082, 10083, 10084, 10085, 10086, 10087, 10088, 10089, 10090,\n",
       "       10091, 10092, 10093, 10094, 10095, 10096, 10097, 10098, 10099,\n",
       "       10100, 10101, 10102, 10103, 10104, 10105, 10106, 10107, 10108,\n",
       "       10109, 10110, 10111, 10112, 10113, 10114, 10115, 10116, 10117,\n",
       "       10118, 10119, 10120, 10121, 10122, 10123, 10124, 10125, 10126,\n",
       "       10127, 10128, 10129, 10130, 10131, 10132, 10133, 10134, 10135,\n",
       "       10136, 10137, 10138, 10139, 10140, 10141, 10142, 10143, 10144,\n",
       "       10145, 10146, 10147, 10148, 10149, 10150, 10151, 10152, 10153,\n",
       "       10154, 10155, 10156, 10157, 10158, 10159, 10160, 10161, 10162,\n",
       "       10163, 10164, 10165, 10166, 10167, 10168, 10169, 10170, 10171,\n",
       "       10172, 10173, 10174, 10175, 10176, 10177, 10178, 10179, 10180,\n",
       "       10181, 10182, 10183, 10184, 10185, 10186, 10187, 10188, 10189,\n",
       "       10190, 10191, 10192, 10193, 10194, 10195, 10196, 10197, 10198,\n",
       "       10199, 10200, 10201, 10202, 10203, 10204, 10205, 10206, 10207,\n",
       "       10208, 10209, 10210, 10211, 10212, 10213, 10214, 10215, 10216,\n",
       "       10217, 10218, 10219, 10220, 10221, 10222, 10223, 10224, 10225,\n",
       "       10226, 10227, 10228, 10229, 10230, 10231, 10232, 10233, 10234,\n",
       "       10235, 10236, 10237, 10238, 10239, 10240], dtype=int64)"
      ]
     },
     "execution_count": 68,
     "metadata": {},
     "output_type": "execute_result"
    }
   ],
   "source": [
    "df['Transaction ID'].unique()"
   ]
  },
  {
   "cell_type": "code",
   "execution_count": 71,
   "id": "5fdb9c6b",
   "metadata": {},
   "outputs": [
    {
     "data": {
      "text/plain": [
       "240"
      ]
     },
     "execution_count": 71,
     "metadata": {},
     "output_type": "execute_result"
    }
   ],
   "source": [
    "df['Transaction ID'].nunique()"
   ]
  },
  {
   "cell_type": "code",
   "execution_count": 58,
   "id": "b31f593f",
   "metadata": {},
   "outputs": [
    {
     "data": {
      "text/plain": [
       "0      2024-01-01\n",
       "1      2024-01-02\n",
       "2      2024-01-03\n",
       "3      2024-01-04\n",
       "4      2024-01-05\n",
       "          ...    \n",
       "235    2024-08-23\n",
       "236    2024-08-24\n",
       "237    2024-08-25\n",
       "238    2024-08-26\n",
       "239    2024-08-27\n",
       "Name: Date, Length: 240, dtype: object"
      ]
     },
     "execution_count": 58,
     "metadata": {},
     "output_type": "execute_result"
    }
   ],
   "source": [
    "df['Date']"
   ]
  },
  {
   "cell_type": "code",
   "execution_count": 73,
   "id": "8288ffa5",
   "metadata": {},
   "outputs": [
    {
     "data": {
      "text/plain": [
       "array(['2024-01-01', '2024-01-02', '2024-01-03', '2024-01-04',\n",
       "       '2024-01-05', '2024-01-06', '2024-01-07', '2024-01-08',\n",
       "       '2024-01-09', '2024-01-10', '2024-01-11', '2024-01-12',\n",
       "       '2024-01-13', '2024-01-14', '2024-01-15', '2024-01-16',\n",
       "       '2024-01-17', '2024-01-18', '2024-01-19', '2024-01-20',\n",
       "       '2024-01-21', '2024-01-22', '2024-01-23', '2024-01-24',\n",
       "       '2024-01-25', '2024-01-26', '2024-01-27', '2024-01-28',\n",
       "       '2024-01-29', '2024-01-30', '2024-01-31', '2024-02-01',\n",
       "       '2024-02-02', '2024-02-03', '2024-02-04', '2024-02-05',\n",
       "       '2024-02-06', '2024-02-07', '2024-02-08', '2024-02-09',\n",
       "       '2024-02-10', '2024-02-11', '2024-02-12', '2024-02-13',\n",
       "       '2024-02-14', '2024-02-15', '2024-02-16', '2024-02-17',\n",
       "       '2024-02-18', '2024-02-19', '2024-02-20', '2024-02-21',\n",
       "       '2024-02-22', '2024-02-23', '2024-02-24', '2024-02-25',\n",
       "       '2024-02-26', '2024-02-27', '2024-02-28', '2024-02-29',\n",
       "       '2024-03-01', '2024-03-02', '2024-03-03', '2024-03-04',\n",
       "       '2024-03-05', '2024-03-06', '2024-03-07', '2024-03-08',\n",
       "       '2024-03-09', '2024-03-10', '2024-03-11', '2024-03-12',\n",
       "       '2024-03-13', '2024-03-14', '2024-03-15', '2024-03-16',\n",
       "       '2024-03-17', '2024-03-18', '2024-03-19', '2024-03-20',\n",
       "       '2024-03-21', '2024-03-22', '2024-03-23', '2024-03-24',\n",
       "       '2024-03-25', '2024-03-26', '2024-03-27', '2024-03-28',\n",
       "       '2024-03-29', '2024-03-30', '2024-03-31', '2024-04-01',\n",
       "       '2024-04-02', '2024-04-03', '2024-04-04', '2024-04-05',\n",
       "       '2024-04-06', '2024-04-07', '2024-04-08', '2024-04-09',\n",
       "       '2024-04-10', '2024-04-11', '2024-04-12', '2024-04-13',\n",
       "       '2024-04-14', '2024-04-15', '2024-04-16', '2024-04-17',\n",
       "       '2024-04-18', '2024-04-19', '2024-04-20', '2024-04-21',\n",
       "       '2024-04-22', '2024-04-23', '2024-04-24', '2024-04-25',\n",
       "       '2024-04-26', '2024-04-27', '2024-04-28', '2024-04-29',\n",
       "       '2024-04-30', '2024-05-01', '2024-05-02', '2024-05-03',\n",
       "       '2024-05-04', '2024-05-05', '2024-05-06', '2024-05-07',\n",
       "       '2024-05-08', '2024-05-09', '2024-05-10', '2024-05-11',\n",
       "       '2024-05-12', '2024-05-13', '2024-05-14', '2024-05-15',\n",
       "       '2024-05-16', '2024-05-17', '2024-05-18', '2024-05-19',\n",
       "       '2024-05-20', '2024-05-21', '2024-05-22', '2024-05-23',\n",
       "       '2024-05-24', '2024-05-25', '2024-05-26', '2024-05-27',\n",
       "       '2024-05-28', '2024-05-29', '2024-05-30', '2024-05-31',\n",
       "       '2024-06-01', '2024-06-02', '2024-06-03', '2024-06-04',\n",
       "       '2024-06-05', '2024-06-06', '2024-06-07', '2024-06-08',\n",
       "       '2024-06-09', '2024-06-10', '2024-06-11', '2024-06-12',\n",
       "       '2024-06-13', '2024-06-14', '2024-06-15', '2024-06-16',\n",
       "       '2024-06-17', '2024-06-18', '2024-06-19', '2024-06-20',\n",
       "       '2024-06-21', '2024-06-22', '2024-06-23', '2024-06-24',\n",
       "       '2024-06-25', '2024-06-26', '2024-06-27', '2024-06-28',\n",
       "       '2024-06-29', '2024-06-30', '2024-07-01', '2024-07-02',\n",
       "       '2024-07-03', '2024-07-04', '2024-07-05', '2024-07-06',\n",
       "       '2024-07-07', '2024-07-08', '2024-07-09', '2024-07-10',\n",
       "       '2024-07-11', '2024-07-12', '2024-07-13', '2024-07-14',\n",
       "       '2024-07-15', '2024-07-16', '2024-07-17', '2024-07-18',\n",
       "       '2024-07-19', '2024-07-20', '2024-07-21', '2024-07-22',\n",
       "       '2024-07-23', '2024-07-24', '2024-07-25', '2024-07-26',\n",
       "       '2024-07-27', '2024-07-28', '2024-07-29', '2024-07-30',\n",
       "       '2024-07-31', '2024-08-01', '2024-08-02', '2024-08-03',\n",
       "       '2024-08-04', '2024-08-05', '2024-08-06', '2024-08-07',\n",
       "       '2024-08-08', '2024-08-09', '2024-08-10', '2024-08-11',\n",
       "       '2024-08-12', '2024-08-13', '2024-08-14', '2024-08-15',\n",
       "       '2024-08-16', '2024-08-17', '2024-08-18', '2024-08-19',\n",
       "       '2024-08-20', '2024-08-21', '2024-08-22', '2024-08-23',\n",
       "       '2024-08-24', '2024-08-25', '2024-08-26', '2024-08-27'],\n",
       "      dtype=object)"
      ]
     },
     "execution_count": 73,
     "metadata": {},
     "output_type": "execute_result"
    }
   ],
   "source": [
    "df['Date'].unique()"
   ]
  },
  {
   "cell_type": "code",
   "execution_count": 74,
   "id": "34711496",
   "metadata": {},
   "outputs": [
    {
     "data": {
      "text/plain": [
       "240"
      ]
     },
     "execution_count": 74,
     "metadata": {},
     "output_type": "execute_result"
    }
   ],
   "source": [
    "df['Date'].nunique()"
   ]
  },
  {
   "cell_type": "code",
   "execution_count": 59,
   "id": "37017047",
   "metadata": {},
   "outputs": [
    {
     "data": {
      "text/plain": [
       "0          Electronics\n",
       "1      Home Appliances\n",
       "2             Clothing\n",
       "3                Books\n",
       "4      Beauty Products\n",
       "            ...       \n",
       "235    Home Appliances\n",
       "236           Clothing\n",
       "237              Books\n",
       "238    Beauty Products\n",
       "239             Sports\n",
       "Name: Product Category, Length: 240, dtype: object"
      ]
     },
     "execution_count": 59,
     "metadata": {},
     "output_type": "execute_result"
    }
   ],
   "source": [
    "df['Product Category']"
   ]
  },
  {
   "cell_type": "code",
   "execution_count": 75,
   "id": "784f6900",
   "metadata": {},
   "outputs": [
    {
     "data": {
      "text/plain": [
       "array(['Electronics', 'Home Appliances', 'Clothing', 'Books',\n",
       "       'Beauty Products', 'Sports'], dtype=object)"
      ]
     },
     "execution_count": 75,
     "metadata": {},
     "output_type": "execute_result"
    }
   ],
   "source": [
    "df['Product Category'].unique()"
   ]
  },
  {
   "cell_type": "code",
   "execution_count": 76,
   "id": "42b5b0cc",
   "metadata": {},
   "outputs": [
    {
     "data": {
      "text/plain": [
       "6"
      ]
     },
     "execution_count": 76,
     "metadata": {},
     "output_type": "execute_result"
    }
   ],
   "source": [
    "df['Product Category'].nunique()"
   ]
  },
  {
   "cell_type": "code",
   "execution_count": 61,
   "id": "69fa919e",
   "metadata": {},
   "outputs": [
    {
     "data": {
      "text/plain": [
       "0                                        iPhone 14 Pro\n",
       "1                                     Dyson V11 Vacuum\n",
       "2                                     Levi's 501 Jeans\n",
       "3                                    The Da Vinci Code\n",
       "4                              Neutrogena Skincare Set\n",
       "                            ...                       \n",
       "235    Nespresso Vertuo Next Coffee and Espresso Maker\n",
       "236                          Nike Air Force 1 Sneakers\n",
       "237             The Handmaid's Tale by Margaret Atwood\n",
       "238               Sunday Riley Luna Sleeping Night Oil\n",
       "239                         Yeti Rambler 20 oz Tumbler\n",
       "Name: Product Name, Length: 240, dtype: object"
      ]
     },
     "execution_count": 61,
     "metadata": {},
     "output_type": "execute_result"
    }
   ],
   "source": [
    "df['Product Name']"
   ]
  },
  {
   "cell_type": "code",
   "execution_count": 78,
   "id": "e78fbb4d",
   "metadata": {},
   "outputs": [
    {
     "data": {
      "text/plain": [
       "array(['iPhone 14 Pro', 'Dyson V11 Vacuum', \"Levi's 501 Jeans\",\n",
       "       'The Da Vinci Code', 'Neutrogena Skincare Set',\n",
       "       'Wilson Evolution Basketball', 'MacBook Pro 16-inch',\n",
       "       'Blueair Classic 480i', 'Nike Air Force 1',\n",
       "       'Dune by Frank Herbert', 'Chanel No. 5 Perfume',\n",
       "       'Babolat Pure Drive Tennis Racket', 'Samsung Galaxy Tab S8',\n",
       "       'Keurig K-Elite Coffee Maker', 'North Face Down Jacket',\n",
       "       'Salt, Fat, Acid, Heat by Samin Nosrat',\n",
       "       'Dyson Supersonic Hair Dryer', 'Manduka PRO Yoga Mat',\n",
       "       'Garmin Forerunner 945', 'Ninja Professional Blender',\n",
       "       'Zara Summer Dress', 'Gone Girl by Gillian Flynn',\n",
       "       'Olay Regenerist Face Cream', 'Adidas FIFA World Cup Football',\n",
       "       'Bose QuietComfort 35 Headphones', 'Panasonic NN-SN966S Microwave',\n",
       "       'Adidas Ultraboost Shoes', 'Pride and Prejudice by Jane Austen',\n",
       "       'MAC Ruby Woo Lipstick', 'Nike Air Zoom Pegasus 37',\n",
       "       'Sony WH-1000XM4 Headphones', 'Instant Pot Duo',\n",
       "       'Under Armour HeatGear T-Shirt', '1984 by George Orwell',\n",
       "       \"L'Oreal Revitalift Serum\", 'Peloton Bike', 'Apple Watch Series 8',\n",
       "       'Roomba i7+', 'Columbia Fleece Jacket',\n",
       "       \"Harry Potter and the Sorcerer's Stone\",\n",
       "       'Estee Lauder Advanced Night Repair', 'Fitbit Charge 5',\n",
       "       'GoPro HERO10 Black', 'Nespresso VertuoPlus',\n",
       "       'Patagonia Better Sweater', 'Becoming by Michelle Obama',\n",
       "       'Clinique Moisture Surge', 'Yeti Rambler Tumbler',\n",
       "       'Kindle Paperwhite', 'Breville Smart Oven',\n",
       "       'Ray-Ban Aviator Sunglasses',\n",
       "       'The Silent Patient by Alex Michaelides',\n",
       "       'Shiseido Ultimate Sun Protector', 'Titleist Pro V1 Golf Balls',\n",
       "       'Anker PowerCore Portable Charger',\n",
       "       'KitchenAid Artisan Stand Mixer', 'Calvin Klein Boxer Briefs',\n",
       "       'Educated by Tara Westover', 'Anastasia Beverly Hills Brow Wiz',\n",
       "       'Hyperice Hypervolt Massager', 'Nintendo Switch',\n",
       "       'Philips Airfryer XXL', 'Hanes ComfortSoft T-Shirt',\n",
       "       'Where the Crawdads Sing by Delia Owens',\n",
       "       'Lancome La Vie Est Belle', 'Garmin Edge 530',\n",
       "       'Samsung QLED 4K TV', 'Eufy RoboVac 11S',\n",
       "       'Puma Suede Classic Sneakers',\n",
       "       'The Great Gatsby by F. Scott Fitzgerald',\n",
       "       'Drunk Elephant C-Firma Day Serum', 'Nike Metcon 6',\n",
       "       'HP Spectre x360 Laptop', \"De'Longhi Magnifica Espresso Machine\",\n",
       "       'Tommy Hilfiger Polo Shirt', 'To Kill a Mockingbird by Harper Lee',\n",
       "       'Glossier Boy Brow', 'Rogue Fitness Kettlebell',\n",
       "       'Apple AirPods Pro', 'Dyson Pure Cool Link',\n",
       "       \"Levi's Trucker Jacket\", 'The Hobbit by J.R.R. Tolkien',\n",
       "       'Charlotte Tilbury Magic Cream', 'Spalding NBA Street Basketball',\n",
       "       'Ring Video Doorbell', 'LG OLED TV',\n",
       "       'Uniqlo Ultra Light Down Jacket',\n",
       "       'The Catcher in the Rye by J.D. Salinger',\n",
       "       'Sunday Riley Good Genes', 'On Running Cloud Shoes',\n",
       "       'Logitech MX Master 3 Mouse', 'Instant Pot Duo Crisp',\n",
       "       'Adidas Originals Superstar Sneakers',\n",
       "       'The Alchemist by Paulo Coelho', 'Tatcha The Water Cream',\n",
       "       'Garmin Fenix 6X Pro', 'Bose SoundLink Revolve+ Speaker',\n",
       "       'Vitamix Explorian Blender', 'Gap Essential Crewneck T-Shirt',\n",
       "       'The Power of Now by Eckhart Tolle',\n",
       "       \"Kiehl's Midnight Recovery Concentrate\",\n",
       "       'Under Armour HOVR Sonic 4 Shoes', 'Canon EOS R5 Camera',\n",
       "       'Shark IQ Robot Vacuum', 'H&M Slim Fit Jeans',\n",
       "       'The Girl on the Train by Paula Hawkins',\n",
       "       'The Ordinary Niacinamide Serum',\n",
       "       'Bowflex SelectTech 552 Dumbbells', 'Google Nest Hub Max',\n",
       "       'Cuisinart Griddler Deluxe', 'Old Navy Relaxed-Fit T-Shirt',\n",
       "       'Sapiens: A Brief History of Humankind by Yuval Noah Harari',\n",
       "       'Biore UV Aqua Rich Watery Essence Sunscreen', 'Fitbit Versa 3',\n",
       "       'Amazon Echo Show 10', 'Breville Smart Grill',\n",
       "       'Gap High Rise Skinny Jeans', 'Atomic Habits by James Clear',\n",
       "       'CeraVe Hydrating Facial Cleanser',\n",
       "       'YETI Hopper Flip Portable Cooler', 'Apple iPad Air',\n",
       "       'Hamilton Beach FlexBrew Coffee Maker', 'Forever 21 Graphic Tee',\n",
       "       'The Subtle Art of Not Giving a F*ck by Mark Manson',\n",
       "       'NARS Radiant Creamy Concealer', 'Yeti Roadie 24 Cooler',\n",
       "       'Sony PlayStation 5', 'Lululemon Align Leggings',\n",
       "       'The Four Agreements by Don Miguel Ruiz',\n",
       "       'Fenty Beauty Killawatt Highlighter',\n",
       "       'Hydro Flask Wide Mouth Water Bottle',\n",
       "       'Microsoft Surface Laptop 4', 'Keurig K-Mini Coffee Maker',\n",
       "       'Gap Crewneck Sweatshirt', 'Think and Grow Rich by Napoleon Hill',\n",
       "       'The Ordinary Hyaluronic Acid Serum', 'Fitbit Inspire 2',\n",
       "       'Samsung Odyssey G9 Gaming Monitor', 'Instant Pot Ultra',\n",
       "       'Adidas Essential Track Pants',\n",
       "       'The Power of Habit by Charles Duhigg',\n",
       "       'Clinique Dramatically Different Moisturizing Lotion',\n",
       "       'YETI Tundra 45 Cooler', 'Apple AirPods Max',\n",
       "       'Cuisinart Coffee Center', \"Levi's Sherpa Trucker Jacket\",\n",
       "       'The Outsiders by S.E. Hinton', 'Laneige Water Sleeping Mask',\n",
       "       'Bose SoundSport Wireless Earbuds', 'Ninja Foodi Pressure Cooker',\n",
       "       'Nike Sportswear Club Fleece Hoodie',\n",
       "       'The Night Circus by Erin Morgenstern',\n",
       "       'GlamGlow Supermud Clearing Treatment', 'Garmin Forerunner 245',\n",
       "       'Google Pixel 6 Pro', 'Breville Nespresso Creatista Plus',\n",
       "       'Under Armour Tech 2.0 T-Shirt', 'The Art of War by Sun Tzu',\n",
       "       'Youth to the People Superfood Antioxidant Cleanser',\n",
       "       'TriggerPoint GRID Foam Roller', 'Apple MacBook Air',\n",
       "       'Cuisinart Custom 14-Cup Food Processor',\n",
       "       'Adidas 3-Stripes Shorts', 'The Hunger Games by Suzanne Collins',\n",
       "       'Neutrogena Hydro Boost Water Gel', 'Yeti Rambler Bottle',\n",
       "       'Samsung Odyssey G7 Gaming Monitor', 'Instant Pot Duo Evo Plus',\n",
       "       'Nike Tempo Running Shorts',\n",
       "       'The Girl with the Dragon Tattoo by Stieg Larsson',\n",
       "       \"Paula's Choice Skin Perfecting 2% BHA Liquid Exfoliant\",\n",
       "       'Bowflex SelectTech 1090 Adjustable Dumbbells',\n",
       "       'Amazon Fire TV Stick 4K', 'Crock-Pot 6-Quart Slow Cooker',\n",
       "       'Uniqlo Airism Mesh Boxer Briefs',\n",
       "       'The Sun Also Rises by Ernest Hemingway',\n",
       "       'First Aid Beauty Ultra Repair Cream',\n",
       "       'Oakley Holbrook Sunglasses', 'Google Pixelbook Go',\n",
       "       'Dyson V8 Absolute', \"Levi's 511 Slim Fit Jeans\",\n",
       "       'The Martian by Andy Weir', 'La Mer Crème de la Mer Moisturizer',\n",
       "       'Polar Vantage V2', 'Sonos Beam Soundbar',\n",
       "       'Anova Precision Cooker', 'Nike Dri-FIT Training Shorts',\n",
       "       'Glossier Cloud Paint',\n",
       "       'TRX All-in-One Suspension Training System',\n",
       "       'Logitech G Pro X Wireless Gaming Headset',\n",
       "       'Breville Smart Coffee Grinder Pro',\n",
       "       'Adidas Ultraboost Running Shoes', 'The Road by Cormac McCarthy',\n",
       "       'Tom Ford Black Orchid Perfume', 'GoPro HERO9 Black',\n",
       "       'Apple TV 4K', 'Instant Pot Duo Nova',\n",
       "       'Gap 1969 Original Fit Jeans', 'The Goldfinch by Donna Tartt',\n",
       "       'Dr. Jart+ Cicapair Tiger Grass Color Correcting Treatment',\n",
       "       'Yeti Tundra Haul Portable Wheeled Cooler',\n",
       "       'Samsung Galaxy Watch 4', 'KitchenAid Stand Mixer',\n",
       "       'Lululemon Wunder Under High-Rise Leggings',\n",
       "       'The Great Alone by Kristin Hannah',\n",
       "       'Caudalie Vinoperfect Radiance Serum',\n",
       "       'Bose SoundLink Color Bluetooth Speaker II',\n",
       "       'Canon EOS Rebel T7i DSLR Camera',\n",
       "       'Uniqlo Airism Seamless Boxer Briefs',\n",
       "       \"L'Occitane Shea Butter Hand Cream\", 'YETI Tundra 65 Cooler',\n",
       "       'Apple MacBook Pro 16-inch', 'iRobot Braava Jet M6',\n",
       "       'Champion Reverse Weave Hoodie',\n",
       "       'The Nightingale by Kristin Hannah', 'Tarte Shape Tape Concealer',\n",
       "       'Amazon Echo Dot (4th Gen)',\n",
       "       'Philips Sonicare DiamondClean Toothbrush',\n",
       "       'Old Navy Mid-Rise Rockstar Super Skinny Jeans',\n",
       "       'The Ordinary Caffeine Solution 5% + EGCG', 'Fitbit Luxe',\n",
       "       'Google Nest Wifi Router', 'Anova Precision Oven',\n",
       "       'Adidas Originals Trefoil Hoodie', 'Fresh Sugar Lip Treatment',\n",
       "       'Hydro Flask Standard Mouth Water Bottle',\n",
       "       'Bose QuietComfort 35 II Wireless Headphones',\n",
       "       'Nespresso Vertuo Next Coffee and Espresso Maker',\n",
       "       'Nike Air Force 1 Sneakers',\n",
       "       \"The Handmaid's Tale by Margaret Atwood\",\n",
       "       'Sunday Riley Luna Sleeping Night Oil',\n",
       "       'Yeti Rambler 20 oz Tumbler'], dtype=object)"
      ]
     },
     "execution_count": 78,
     "metadata": {},
     "output_type": "execute_result"
    }
   ],
   "source": [
    "df['Product Name'].unique()"
   ]
  },
  {
   "cell_type": "code",
   "execution_count": 79,
   "id": "f6f09369",
   "metadata": {},
   "outputs": [
    {
     "data": {
      "text/plain": [
       "232"
      ]
     },
     "execution_count": 79,
     "metadata": {},
     "output_type": "execute_result"
    }
   ],
   "source": [
    "df['Product Name'].nunique()"
   ]
  },
  {
   "cell_type": "code",
   "execution_count": 60,
   "id": "37a06c48",
   "metadata": {},
   "outputs": [
    {
     "data": {
      "text/plain": [
       "0      North America\n",
       "1             Europe\n",
       "2               Asia\n",
       "3      North America\n",
       "4             Europe\n",
       "           ...      \n",
       "235           Europe\n",
       "236             Asia\n",
       "237    North America\n",
       "238           Europe\n",
       "239             Asia\n",
       "Name: Region, Length: 240, dtype: object"
      ]
     },
     "execution_count": 60,
     "metadata": {},
     "output_type": "execute_result"
    }
   ],
   "source": [
    "df['Region']"
   ]
  },
  {
   "cell_type": "code",
   "execution_count": 80,
   "id": "2961e883",
   "metadata": {},
   "outputs": [
    {
     "data": {
      "text/plain": [
       "array(['North America', 'Europe', 'Asia'], dtype=object)"
      ]
     },
     "execution_count": 80,
     "metadata": {},
     "output_type": "execute_result"
    }
   ],
   "source": [
    "df['Region'].unique()"
   ]
  },
  {
   "cell_type": "code",
   "execution_count": 81,
   "id": "98b52096",
   "metadata": {},
   "outputs": [
    {
     "data": {
      "text/plain": [
       "3"
      ]
     },
     "execution_count": 81,
     "metadata": {},
     "output_type": "execute_result"
    }
   ],
   "source": [
    "df['Region'].nunique()"
   ]
  },
  {
   "cell_type": "code",
   "execution_count": 63,
   "id": "f55231ba",
   "metadata": {},
   "outputs": [
    {
     "data": {
      "text/plain": [
       "0      2\n",
       "1      1\n",
       "2      3\n",
       "3      4\n",
       "4      1\n",
       "      ..\n",
       "235    1\n",
       "236    3\n",
       "237    3\n",
       "238    1\n",
       "239    2\n",
       "Name: Units Sold, Length: 240, dtype: int64"
      ]
     },
     "execution_count": 63,
     "metadata": {},
     "output_type": "execute_result"
    }
   ],
   "source": [
    "df['Units Sold']"
   ]
  },
  {
   "cell_type": "code",
   "execution_count": 82,
   "id": "f2f453f0",
   "metadata": {},
   "outputs": [
    {
     "data": {
      "text/plain": [
       "array([ 2,  1,  3,  4,  5,  6, 10], dtype=int64)"
      ]
     },
     "execution_count": 82,
     "metadata": {},
     "output_type": "execute_result"
    }
   ],
   "source": [
    "df['Units Sold'].unique()"
   ]
  },
  {
   "cell_type": "code",
   "execution_count": 83,
   "id": "1ae6678c",
   "metadata": {},
   "outputs": [
    {
     "data": {
      "text/plain": [
       "7"
      ]
     },
     "execution_count": 83,
     "metadata": {},
     "output_type": "execute_result"
    }
   ],
   "source": [
    "df['Units Sold'].nunique()"
   ]
  },
  {
   "cell_type": "code",
   "execution_count": 64,
   "id": "b4e5171b",
   "metadata": {},
   "outputs": [
    {
     "data": {
      "text/plain": [
       "0      999.99\n",
       "1      499.99\n",
       "2       69.99\n",
       "3       15.99\n",
       "4       89.99\n",
       "        ...  \n",
       "235    159.99\n",
       "236     90.00\n",
       "237     10.99\n",
       "238     55.00\n",
       "239     29.99\n",
       "Name: Unit Price, Length: 240, dtype: float64"
      ]
     },
     "execution_count": 64,
     "metadata": {},
     "output_type": "execute_result"
    }
   ],
   "source": [
    "df['Unit Price']"
   ]
  },
  {
   "cell_type": "code",
   "execution_count": 84,
   "id": "7378bd3a",
   "metadata": {},
   "outputs": [
    {
     "data": {
      "text/plain": [
       "array([ 999.99,  499.99,   69.99,   15.99,   89.99,   29.99, 2499.99,\n",
       "        599.99,   25.99,  129.99,  199.99,  749.99,  189.99,  249.99,\n",
       "         35.99,  399.99,  119.99,   99.99,   59.99,   22.99,   49.99,\n",
       "        299.99,  179.99,   12.99,  349.99,   19.99,   39.99, 1895.  ,\n",
       "        799.99,   24.99,  105.  ,  139.99,   32.5 ,   52.  ,  154.99,\n",
       "         26.99,   49.  ,   28.  ,   23.  ,  349.  ,    9.99,   18.99,\n",
       "        102.  , 1199.99,  219.99,   10.99,   78.  , 1599.99,  899.99,\n",
       "         14.99,   16.  ,  100.  , 1299.99,   79.99,   13.99,   68.  ,\n",
       "         82.  ,  109.99, 3899.99,    6.5 ,  229.99,  159.99,   15.  ,\n",
       "        229.95,  299.95,   16.99,   30.  ,   98.  ,    8.99,   36.  ,\n",
       "         39.95,   34.99,    6.8 ,   99.95, 1499.99,   44.99,   11.99,\n",
       "         29.5 ,  549.  ,  199.95,   25.  ,  149.99,   54.99,   59.  ,\n",
       "        499.95,    7.99,  699.99,   14.9 ,   34.  ,  146.  ,  649.99,\n",
       "        190.  ,  399.  ,  199.  ,   18.  ,  169.95,  125.  ,  449.99,\n",
       "        179.  ,  379.99,   79.  ,  129.  ,  169.99,    9.9 ,   29.  ,\n",
       "       2399.  ,   27.  ,    6.7 ,  149.95,  169.  ,  599.  ,   64.99,\n",
       "         24.  ,   32.95,  299.  ,   90.  ,   55.  ])"
      ]
     },
     "execution_count": 84,
     "metadata": {},
     "output_type": "execute_result"
    }
   ],
   "source": [
    "df['Unit Price'].unique()"
   ]
  },
  {
   "cell_type": "code",
   "execution_count": 96,
   "id": "22e88be5",
   "metadata": {},
   "outputs": [
    {
     "data": {
      "text/plain": [
       "dtype('float64')"
      ]
     },
     "execution_count": 96,
     "metadata": {},
     "output_type": "execute_result"
    }
   ],
   "source": [
    "df['Unit Price'].dtype"
   ]
  },
  {
   "cell_type": "code",
   "execution_count": 89,
   "id": "dcd2241b",
   "metadata": {},
   "outputs": [
    {
     "data": {
      "text/plain": [
       "117"
      ]
     },
     "execution_count": 89,
     "metadata": {},
     "output_type": "execute_result"
    }
   ],
   "source": [
    "df['Unit Price'].nunique()"
   ]
  },
  {
   "cell_type": "code",
   "execution_count": 65,
   "id": "5fa9675e",
   "metadata": {},
   "outputs": [
    {
     "data": {
      "text/plain": [
       "0      1999.98\n",
       "1       499.99\n",
       "2       209.97\n",
       "3        63.96\n",
       "4        89.99\n",
       "        ...   \n",
       "235     159.99\n",
       "236     270.00\n",
       "237      32.97\n",
       "238      55.00\n",
       "239      59.98\n",
       "Name: Total Revenue, Length: 240, dtype: float64"
      ]
     },
     "execution_count": 65,
     "metadata": {},
     "output_type": "execute_result"
    }
   ],
   "source": [
    "df['Total Revenue']"
   ]
  },
  {
   "cell_type": "code",
   "execution_count": 90,
   "id": "856e29f9",
   "metadata": {},
   "outputs": [
    {
     "data": {
      "text/plain": [
       "array([1999.98,  499.99,  209.97,   63.96,   89.99,  149.95, 2499.99,\n",
       "       1199.98,  539.94,   51.98,  129.99,  599.97, 1499.98,  189.99,\n",
       "        499.98,  107.97,  399.99,  479.96,  999.98,   99.99,  179.97,\n",
       "         45.98,   49.99,   89.97,  299.99,  179.99,  359.98,   38.97,\n",
       "         29.99,  259.98,  699.98,  269.97,   79.96,   79.98, 1895.  ,\n",
       "       1199.97, 1599.98,  239.96,   74.97,  105.  ,  199.99,  279.98,\n",
       "        130.  ,   52.  ,  239.94,  464.97,   53.98,   49.  ,  249.95,\n",
       "         84.  ,   46.  ,  349.  ,  899.97,  399.98,   99.9 ,   75.96,\n",
       "        102.  ,  599.98, 1199.99,  659.97,   21.98,   78.  ,  389.97,\n",
       "       1599.99,  899.99,   59.96,   32.  ,  179.98,  100.  ,  149.94,\n",
       "       2599.98,  239.97,   55.96,  199.98,  319.96,   44.97,   68.  ,\n",
       "        999.99,  349.99,  119.94,   25.98,   82.  ,  219.98, 3899.99,\n",
       "        119.97,   43.96,    6.5 ,  459.98,  159.99,   37.98,   15.  ,\n",
       "        689.85,  249.99,  599.9 ,  149.97,   67.96,   29.98,   64.95,\n",
       "         30.  ,  799.98,  294.  ,   17.98,   36.  ,  159.8 , 1299.99,\n",
       "        159.98,  139.96,   29.97,    6.8 ,  199.9 , 1499.99,  139.99,\n",
       "        134.97,   23.98,   29.5 ,  549.  ,  399.9 ,  196.  ,   32.97,\n",
       "         25.  ,  299.98,  164.97,   33.98,   59.  ,  499.95,   99.96,\n",
       "         23.97,   69.98,   35.96,   16.99,  699.99,  104.97,   19.98,\n",
       "         99.98,   59.6 ,   35.97,  146.  ,  649.99,  190.  ,  399.  ,\n",
       "        398.  ,   18.  ,  169.95,  199.95,  125.  ,  449.99,  358.  ,\n",
       "         99.95,  379.99,   50.97,   79.  ,  129.  ,  749.99,  339.98,\n",
       "         39.6 ,   58.  , 2399.  ,   27.  ,  599.99,  199.96,   89.98,\n",
       "         80.97,    6.7 ,  299.9 ,  169.  ,  599.  ,  259.96,   24.  ,\n",
       "         98.85,  299.  ,  270.  ,   55.  ,   59.98])"
      ]
     },
     "execution_count": 90,
     "metadata": {},
     "output_type": "execute_result"
    }
   ],
   "source": [
    "df['Total Revenue'].unique()"
   ]
  },
  {
   "cell_type": "code",
   "execution_count": 91,
   "id": "d371ff88",
   "metadata": {},
   "outputs": [
    {
     "data": {
      "text/plain": [
       "173"
      ]
     },
     "execution_count": 91,
     "metadata": {},
     "output_type": "execute_result"
    }
   ],
   "source": [
    "df['Total Revenue'].nunique()"
   ]
  },
  {
   "cell_type": "code",
   "execution_count": 95,
   "id": "27d0182a",
   "metadata": {},
   "outputs": [
    {
     "data": {
      "text/plain": [
       "dtype('float64')"
      ]
     },
     "execution_count": 95,
     "metadata": {},
     "output_type": "execute_result"
    }
   ],
   "source": [
    "df['Total Revenue'].dtype"
   ]
  },
  {
   "cell_type": "code",
   "execution_count": 66,
   "id": "380716d8",
   "metadata": {},
   "outputs": [
    {
     "data": {
      "text/plain": [
       "0      Credit Card\n",
       "1           PayPal\n",
       "2       Debit Card\n",
       "3      Credit Card\n",
       "4           PayPal\n",
       "          ...     \n",
       "235         PayPal\n",
       "236     Debit Card\n",
       "237    Credit Card\n",
       "238         PayPal\n",
       "239    Credit Card\n",
       "Name: Payment Method, Length: 240, dtype: object"
      ]
     },
     "execution_count": 66,
     "metadata": {},
     "output_type": "execute_result"
    }
   ],
   "source": [
    "df['Payment Method']"
   ]
  },
  {
   "cell_type": "code",
   "execution_count": 92,
   "id": "f1ec5c23",
   "metadata": {},
   "outputs": [
    {
     "data": {
      "text/plain": [
       "array(['Credit Card', 'PayPal', 'Debit Card'], dtype=object)"
      ]
     },
     "execution_count": 92,
     "metadata": {},
     "output_type": "execute_result"
    }
   ],
   "source": [
    "df['Payment Method'].unique()"
   ]
  },
  {
   "cell_type": "code",
   "execution_count": 93,
   "id": "e34e9dd8",
   "metadata": {},
   "outputs": [
    {
     "data": {
      "text/plain": [
       "3"
      ]
     },
     "execution_count": 93,
     "metadata": {},
     "output_type": "execute_result"
    }
   ],
   "source": [
    "df['Payment Method'].nunique()"
   ]
  },
  {
   "cell_type": "code",
   "execution_count": 100,
   "id": "df175f30",
   "metadata": {},
   "outputs": [
    {
     "name": "stdout",
     "output_type": "stream",
     "text": [
      "<class 'pandas.core.frame.DataFrame'>\n",
      "RangeIndex: 240 entries, 0 to 239\n",
      "Data columns (total 9 columns):\n",
      " #   Column            Non-Null Count  Dtype  \n",
      "---  ------            --------------  -----  \n",
      " 0   Transaction ID    240 non-null    int64  \n",
      " 1   Date              240 non-null    object \n",
      " 2   Product Category  240 non-null    object \n",
      " 3   Product Name      240 non-null    object \n",
      " 4   Units Sold        240 non-null    int64  \n",
      " 5   Unit Price        240 non-null    float64\n",
      " 6   Total Revenue     240 non-null    float64\n",
      " 7   Region            240 non-null    object \n",
      " 8   Payment Method    240 non-null    object \n",
      "dtypes: float64(2), int64(2), object(5)\n",
      "memory usage: 17.0+ KB\n"
     ]
    }
   ],
   "source": [
    "df.info()"
   ]
  },
  {
   "cell_type": "markdown",
   "id": "65c8071a",
   "metadata": {},
   "source": [
    "### Exploratory Data Analysis(EDA)\n",
    "#### 1. Univariate Analysis: Distribution of Numerical Features\n",
    "\n",
    "** Unit Sold"
   ]
  },
  {
   "cell_type": "code",
   "execution_count": 105,
   "id": "78ef5494",
   "metadata": {},
   "outputs": [
    {
     "data": {
      "image/png": "[encoded data removed]",
      "text/plain": [
       "<Figure size 640x480 with 1 Axes>"
      ]
     },
     "metadata": {},
     "output_type": "display_data"
    }
   ],
   "source": [
    "sns.histplot(data=df, x=df['Units Sold'])\n",
    "plt.title('Distribution of Unit Sold')\n",
    "plt.show()"
   ]
  },
  {
   "cell_type": "code",
   "execution_count": 107,
   "id": "f5ec67bf",
   "metadata": {},
   "outputs": [
    {
     "data": {
      "image/png": "[encoded data removed]",
      "text/plain": [
       "<Figure size 640x480 with 1 Axes>"
      ]
     },
     "metadata": {},
     "output_type": "display_data"
    }
   ],
   "source": [
    "sns.histplot(data=df, x=df['Unit Price'])\n",
    "plt.title('Distribution of Unit Price')\n",
    "plt.show()"
   ]
  },
  {
   "cell_type": "code",
   "execution_count": 108,
   "id": "93b5b521",
   "metadata": {},
   "outputs": [
    {
     "data": {
      "image/png": "[encoded data removed]",
      "text/plain": [
       "<Figure size 640x480 with 1 Axes>"
      ]
     },
     "metadata": {},
     "output_type": "display_data"
    }
   ],
   "source": [
    "sns.histplot(data=df, x=df['Total Revenue'])\n",
    "plt.title('Distribution of Total Revenue')\n",
    "plt.show()"
   ]
  },
  {
   "cell_type": "code",
   "execution_count": 2,
   "id": "543d8102",
   "metadata": {},
   "outputs": [
    {
     "ename": "SyntaxError",
     "evalue": "invalid syntax. Perhaps you forgot a comma? (2246377548.py, line 1)",
     "output_type": "error",
     "traceback": [
      "\u001b[1;36m  Cell \u001b[1;32mIn[2], line 1\u001b[1;36m\u001b[0m\n\u001b[1;33m    plt.bar(x=df, y=df list(map(object, scores[0])), align='edge', width=-0.4)\u001b[0m\n\u001b[1;37m                    ^\u001b[0m\n\u001b[1;31mSyntaxError\u001b[0m\u001b[1;31m:\u001b[0m invalid syntax. Perhaps you forgot a comma?\n"
     ]
    }
   ],
   "source": [
    "plt.bar(x=df, y=df list(map(object, scores[0])), align='edge', width=-0.4)\n",
    "plt.title('Distribution of Date')\n",
    "plt.show()"
   ]
  },
  {
   "cell_type": "code",
   "execution_count": null,
   "id": "c9b511cb",
   "metadata": {},
   "outputs": [],
   "source": []
  }
 ],
 "metadata": {
  "kernelspec": {
   "display_name": "Python 3 (ipykernel)",
   "language": "python",
   "name": "python3"
  },
  "language_info": {
   "codemirror_mode": {
    "name": "ipython",
    "version": 3
   },
   "file_extension": ".py",
   "mimetype": "text/x-python",
   "name": "python",
   "nbconvert_exporter": "python",
   "pygments_lexer": "ipython3",
   "version": "3.11.5"
  }
 },
 "nbformat": 4,
 "nbformat_minor": 5
}
