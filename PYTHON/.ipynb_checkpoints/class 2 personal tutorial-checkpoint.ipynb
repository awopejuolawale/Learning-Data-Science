{
 "cells": [
  {
   "cell_type": "markdown",
   "id": "e7bd544d",
   "metadata": {},
   "source": [
    "## MORE DATA TYPE"
   ]
  },
  {
   "cell_type": "markdown",
   "id": "968f47c6",
   "metadata": {},
   "source": [
    "#VARIABLE"
   ]
  },
  {
   "cell_type": "markdown",
   "id": "64cb8397",
   "metadata": {},
   "source": [
    "## variable Is a name given to computer memory where data are stores."
   ]
  },
  {
   "cell_type": "markdown",
   "id": "e2875a94",
   "metadata": {},
   "source": [
    "variable has its own rules: variable can not start with special xter or numbers or capital letters. except in some special occaion when assigning pi charts"
   ]
  },
  {
   "cell_type": "markdown",
   "id": "e5730d56",
   "metadata": {},
   "source": [
    "## assignment operators"
   ]
  },
  {
   "cell_type": "code",
   "execution_count": 3,
   "id": "30d3a6a5",
   "metadata": {},
   "outputs": [],
   "source": [
    "version = \"python 3\""
   ]
  },
  {
   "cell_type": "code",
   "execution_count": 4,
   "id": "0ce81dce",
   "metadata": {},
   "outputs": [
    {
     "ename": "NameError",
     "evalue": "name 'name' is not defined",
     "output_type": "error",
     "traceback": [
      "\u001b[1;31m---------------------------------------------------------------------------\u001b[0m",
      "\u001b[1;31mNameError\u001b[0m                                 Traceback (most recent call last)",
      "Cell \u001b[1;32mIn[4], line 1\u001b[0m\n\u001b[1;32m----> 1\u001b[0m \u001b[38;5;28mtype\u001b[39m(name)\n",
      "\u001b[1;31mNameError\u001b[0m: name 'name' is not defined"
     ]
    }
   ],
   "source": [
    "type(name)"
   ]
  },
  {
   "cell_type": "code",
   "execution_count": 5,
   "id": "102c0614",
   "metadata": {},
   "outputs": [
    {
     "name": "stdout",
     "output_type": "stream",
     "text": [
      "python 3\n"
     ]
    }
   ],
   "source": [
    "print(version)"
   ]
  },
  {
   "cell_type": "code",
   "execution_count": 6,
   "id": "3e2ce8ad",
   "metadata": {},
   "outputs": [],
   "source": [
    "name = \"olawale\""
   ]
  },
  {
   "cell_type": "code",
   "execution_count": 7,
   "id": "b3f5a5c0",
   "metadata": {},
   "outputs": [
    {
     "name": "stdout",
     "output_type": "stream",
     "text": [
      "olawale\n"
     ]
    }
   ],
   "source": [
    "print(name)"
   ]
  },
  {
   "cell_type": "code",
   "execution_count": 8,
   "id": "4fc767f1",
   "metadata": {},
   "outputs": [
    {
     "ename": "NameError",
     "evalue": "name 'olawale' is not defined",
     "output_type": "error",
     "traceback": [
      "\u001b[1;31m---------------------------------------------------------------------------\u001b[0m",
      "\u001b[1;31mNameError\u001b[0m                                 Traceback (most recent call last)",
      "Cell \u001b[1;32mIn[8], line 1\u001b[0m\n\u001b[1;32m----> 1\u001b[0m first_name \u001b[38;5;241m=\u001b[39m olawale\n",
      "\u001b[1;31mNameError\u001b[0m: name 'olawale' is not defined"
     ]
    }
   ],
   "source": [
    "first_name = olawale "
   ]
  },
  {
   "cell_type": "code",
   "execution_count": 11,
   "id": "8d8c3350",
   "metadata": {},
   "outputs": [
    {
     "ename": "NameError",
     "evalue": "name 'olawale' is not defined",
     "output_type": "error",
     "traceback": [
      "\u001b[1;31m---------------------------------------------------------------------------\u001b[0m",
      "\u001b[1;31mNameError\u001b[0m                                 Traceback (most recent call last)",
      "Cell \u001b[1;32mIn[11], line 1\u001b[0m\n\u001b[1;32m----> 1\u001b[0m name \u001b[38;5;241m=\u001b[39m olawale\n",
      "\u001b[1;31mNameError\u001b[0m: name 'olawale' is not defined"
     ]
    }
   ],
   "source": [
    "name = olawale"
   ]
  },
  {
   "cell_type": "code",
   "execution_count": 12,
   "id": "6dede408",
   "metadata": {},
   "outputs": [
    {
     "ename": "NameError",
     "evalue": "name 'olawale' is not defined",
     "output_type": "error",
     "traceback": [
      "\u001b[1;31m---------------------------------------------------------------------------\u001b[0m",
      "\u001b[1;31mNameError\u001b[0m                                 Traceback (most recent call last)",
      "Cell \u001b[1;32mIn[12], line 1\u001b[0m\n\u001b[1;32m----> 1\u001b[0m name \u001b[38;5;241m=\u001b[39m olawale\n",
      "\u001b[1;31mNameError\u001b[0m: name 'olawale' is not defined"
     ]
    }
   ],
   "source": [
    "name = olawale"
   ]
  },
  {
   "cell_type": "code",
   "execution_count": 13,
   "id": "1a1415bc",
   "metadata": {},
   "outputs": [
    {
     "ename": "NameError",
     "evalue": "name 'olawale' is not defined",
     "output_type": "error",
     "traceback": [
      "\u001b[1;31m---------------------------------------------------------------------------\u001b[0m",
      "\u001b[1;31mNameError\u001b[0m                                 Traceback (most recent call last)",
      "Cell \u001b[1;32mIn[13], line 1\u001b[0m\n\u001b[1;32m----> 1\u001b[0m name \u001b[38;5;241m=\u001b[39m olawale\n",
      "\u001b[1;31mNameError\u001b[0m: name 'olawale' is not defined"
     ]
    }
   ],
   "source": [
    "name = olawale"
   ]
  },
  {
   "cell_type": "code",
   "execution_count": 14,
   "id": "34218441",
   "metadata": {},
   "outputs": [
    {
     "name": "stdout",
     "output_type": "stream",
     "text": [
      "olawale\n"
     ]
    }
   ],
   "source": [
    "print(name)"
   ]
  },
  {
   "cell_type": "code",
   "execution_count": 15,
   "id": "85cda0a4",
   "metadata": {},
   "outputs": [
    {
     "ename": "NameError",
     "evalue": "name 'awopeju' is not defined",
     "output_type": "error",
     "traceback": [
      "\u001b[1;31m---------------------------------------------------------------------------\u001b[0m",
      "\u001b[1;31mNameError\u001b[0m                                 Traceback (most recent call last)",
      "Cell \u001b[1;32mIn[15], line 1\u001b[0m\n\u001b[1;32m----> 1\u001b[0m surname \u001b[38;5;241m=\u001b[39m awopeju\n",
      "\u001b[1;31mNameError\u001b[0m: name 'awopeju' is not defined"
     ]
    }
   ],
   "source": [
    "surname = awopeju"
   ]
  },
  {
   "cell_type": "code",
   "execution_count": 16,
   "id": "87ce6c97",
   "metadata": {},
   "outputs": [
    {
     "ename": "NameError",
     "evalue": "name 'surname' is not defined",
     "output_type": "error",
     "traceback": [
      "\u001b[1;31m---------------------------------------------------------------------------\u001b[0m",
      "\u001b[1;31mNameError\u001b[0m                                 Traceback (most recent call last)",
      "Cell \u001b[1;32mIn[16], line 1\u001b[0m\n\u001b[1;32m----> 1\u001b[0m \u001b[38;5;28mprint\u001b[39m(surname)\n",
      "\u001b[1;31mNameError\u001b[0m: name 'surname' is not defined"
     ]
    }
   ],
   "source": [
    "print(surname)"
   ]
  },
  {
   "cell_type": "code",
   "execution_count": null,
   "id": "efff3e5b",
   "metadata": {},
   "outputs": [],
   "source": []
  }
 ],
 "metadata": {
  "kernelspec": {
   "display_name": "Python 3 (ipykernel)",
   "language": "python",
   "name": "python3"
  },
  "language_info": {
   "codemirror_mode": {
    "name": "ipython",
    "version": 3
   },
   "file_extension": ".py",
   "mimetype": "text/x-python",
   "name": "python",
   "nbconvert_exporter": "python",
   "pygments_lexer": "ipython3",
   "version": "3.11.5"
  }
 },
 "nbformat": 4,
 "nbformat_minor": 5
}
