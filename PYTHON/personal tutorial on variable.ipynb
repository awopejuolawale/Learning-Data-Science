{
 "cells": [
  {
   "cell_type": "markdown",
   "id": "4ea3eda0",
   "metadata": {},
   "source": [
    "## MY  First  Personal Tutorial on Variables"
   ]
  },
  {
   "cell_type": "code",
   "execution_count": 1,
   "id": "840836ab",
   "metadata": {},
   "outputs": [],
   "source": [
    " first_name=\"olawale\"\n"
   ]
  },
  {
   "cell_type": "code",
   "execution_count": 2,
   "id": "ce287f8d",
   "metadata": {},
   "outputs": [
    {
     "name": "stdout",
     "output_type": "stream",
     "text": [
      "olawale\n"
     ]
    }
   ],
   "source": [
    "print(first_name)"
   ]
  },
  {
   "cell_type": "code",
   "execution_count": 3,
   "id": "fbc3a929",
   "metadata": {},
   "outputs": [],
   "source": [
    "last_name=\"awopeju\""
   ]
  },
  {
   "cell_type": "code",
   "execution_count": 4,
   "id": "6d39a41e",
   "metadata": {},
   "outputs": [
    {
     "name": "stdout",
     "output_type": "stream",
     "text": [
      "awopeju\n"
     ]
    }
   ],
   "source": [
    "print(last_name)"
   ]
  },
  {
   "cell_type": "code",
   "execution_count": 5,
   "id": "98ba0c40",
   "metadata": {},
   "outputs": [
    {
     "name": "stdout",
     "output_type": "stream",
     "text": [
      "olawale\n"
     ]
    }
   ],
   "source": [
    "print(first_name)"
   ]
  },
  {
   "cell_type": "code",
   "execution_count": 6,
   "id": "5ff219a6",
   "metadata": {},
   "outputs": [
    {
     "name": "stdout",
     "output_type": "stream",
     "text": [
      "olawale awopeju\n"
     ]
    }
   ],
   "source": [
    "print(first_name, last_name)"
   ]
  },
  {
   "cell_type": "code",
   "execution_count": 7,
   "id": "9fec525d",
   "metadata": {},
   "outputs": [
    {
     "name": "stdout",
     "output_type": "stream",
     "text": [
      "awopeju olawale\n"
     ]
    }
   ],
   "source": [
    "print(last_name,first_name)"
   ]
  },
  {
   "cell_type": "code",
   "execution_count": 8,
   "id": "f1183bc4",
   "metadata": {},
   "outputs": [],
   "source": [
    "company_name=\"codar tech africa\""
   ]
  },
  {
   "cell_type": "code",
   "execution_count": 9,
   "id": "94e864f9",
   "metadata": {},
   "outputs": [
    {
     "name": "stdout",
     "output_type": "stream",
     "text": [
      "codar tech africa\n"
     ]
    }
   ],
   "source": [
    "print(company_name)"
   ]
  },
  {
   "cell_type": "code",
   "execution_count": 10,
   "id": "fab6fa4a",
   "metadata": {},
   "outputs": [
    {
     "name": "stdout",
     "output_type": "stream",
     "text": [
      "awopeju olawale codar tech africa\n"
     ]
    }
   ],
   "source": [
    "print(last_name,first_name,company_name)"
   ]
  },
  {
   "cell_type": "code",
   "execution_count": 11,
   "id": "d78e9a00",
   "metadata": {},
   "outputs": [
    {
     "name": "stdout",
     "output_type": "stream",
     "text": [
      "awopeju\n"
     ]
    }
   ],
   "source": [
    "print(last_name)"
   ]
  },
  {
   "cell_type": "code",
   "execution_count": 12,
   "id": "c3af08c7",
   "metadata": {},
   "outputs": [],
   "source": [
    "phone_no=8036791178"
   ]
  },
  {
   "cell_type": "code",
   "execution_count": 13,
   "id": "d81de2aa",
   "metadata": {},
   "outputs": [],
   "source": [
    "info={'last_name':\"awopeju\",\n",
    "      'first_name':\"olawale\",\n",
    "      'company_name':\"codar tech africa\",\n",
    "      'phone_no':8036791178,\n",
    "       \"age\":35,\n",
    "       'height':\"6.5ft\"}"
   ]
  },
  {
   "cell_type": "code",
   "execution_count": 17,
   "id": "c7427cc7",
   "metadata": {},
   "outputs": [
    {
     "name": "stdout",
     "output_type": "stream",
     "text": [
      "{'last_name': 'awopeju', 'first_name': 'olawale', 'company_name': 'codar tech africa', 'phone_no': 8036791178, 'age': 35, 'height': '6.5ft'}\n"
     ]
    }
   ],
   "source": [
    "print(info)"
   ]
  },
  {
   "cell_type": "code",
   "execution_count": 38,
   "id": "697f5ace",
   "metadata": {},
   "outputs": [
    {
     "data": {
      "text/plain": [
       "int"
      ]
     },
     "execution_count": 38,
     "metadata": {},
     "output_type": "execute_result"
    }
   ],
   "source": [
    "type(8036791178)"
   ]
  },
  {
   "cell_type": "code",
   "execution_count": 18,
   "id": "897f0024",
   "metadata": {},
   "outputs": [],
   "source": [
    "class house():\n",
    "    def __init_(self,color,kind ):\n",
    "        self.color = color\n",
    "        self.kind = kind\n",
    "        self.house = house"
   ]
  },
  {
   "cell_type": "code",
   "execution_count": 19,
   "id": "8ce694af",
   "metadata": {},
   "outputs": [],
   "source": [
    "house = house "
   ]
  },
  {
   "cell_type": "code",
   "execution_count": 20,
   "id": "e61c439c",
   "metadata": {},
   "outputs": [
    {
     "name": "stdout",
     "output_type": "stream",
     "text": [
      "<class '__main__.house'>\n"
     ]
    }
   ],
   "source": [
    "print(house)"
   ]
  },
  {
   "cell_type": "code",
   "execution_count": null,
   "id": "1ed63cd6",
   "metadata": {},
   "outputs": [],
   "source": []
  }
 ],
 "metadata": {
  "kernelspec": {
   "display_name": "Python 3 (ipykernel)",
   "language": "python",
   "name": "python3"
  },
  "language_info": {
   "codemirror_mode": {
    "name": "ipython",
    "version": 3
   },
   "file_extension": ".py",
   "mimetype": "text/x-python",
   "name": "python",
   "nbconvert_exporter": "python",
   "pygments_lexer": "ipython3",
   "version": "3.11.5"
  }
 },
 "nbformat": 4,
 "nbformat_minor": 5
}
